{
  "nbformat": 4,
  "nbformat_minor": 0,
  "metadata": {
    "colab": {
      "provenance": [],
      "gpuType": "T4",
      "authorship_tag": "ABX9TyMpP4LGo10W7ZVTf+jYS5bM",
      "include_colab_link": true
    },
    "kernelspec": {
      "name": "python3",
      "display_name": "Python 3"
    },
    "language_info": {
      "name": "python"
    },
    "accelerator": "GPU"
  },
  "cells": [
    {
      "cell_type": "markdown",
      "metadata": {
        "id": "view-in-github",
        "colab_type": "text"
      },
      "source": [
        "<a href=\"https://colab.research.google.com/github/zacksfF/Automated_ML-in-real-world-app/blob/master/image_calssification.ipynb\" target=\"_parent\"><img src=\"https://colab.research.google.com/assets/colab-badge.svg\" alt=\"Open In Colab\"/></a>"
      ]
    },
    {
      "cell_type": "code",
      "execution_count": 1,
      "metadata": {
        "colab": {
          "base_uri": "https://localhost:8080/"
        },
        "id": "lrUQAcewuhDP",
        "outputId": "7afe7dd0-f500-4fd5-df55-030b22c2f87c"
      },
      "outputs": [
        {
          "output_type": "stream",
          "name": "stdout",
          "text": [
            "Downloading data from https://storage.googleapis.com/tensorflow/tf-keras-datasets/mnist.npz\n",
            "11490434/11490434 [==============================] - 1s 0us/step\n",
            "Training image shape: (60000, 28, 28)\n",
            "Training label shape: (60000,)\n",
            "First five training labels: [5 0 4 1 9]\n"
          ]
        }
      ],
      "source": [
        "import tensorflow as tf\n",
        "from tensorflow.keras.datasets import mnist\n",
        "\n",
        "(x_train, y_train), (x_test, y_test) = mnist.load_data()\n",
        "print(\"Training image shape:\", x_train.shape)  # (60000, 28, 28)\n",
        "print(\"Training label shape:\", y_train.shape)  # (60000,)\n",
        "print(\"First five training labels:\", y_train[:5])  # array([5 0 4 1 9], dtype=uint8)\n"
      ]
    },
    {
      "cell_type": "markdown",
      "source": [
        "# IO ApI for image classification"
      ],
      "metadata": {
        "id": "NSF6yUX9va3R"
      }
    },
    {
      "cell_type": "code",
      "source": [
        "pip install autokeras"
      ],
      "metadata": {
        "colab": {
          "base_uri": "https://localhost:8080/"
        },
        "id": "lXG0Cbp8vl4u",
        "outputId": "f6475645-1fde-4d47-8898-3b9531278f0d"
      },
      "execution_count": 3,
      "outputs": [
        {
          "output_type": "stream",
          "name": "stdout",
          "text": [
            "Collecting autokeras\n",
            "  Downloading autokeras-1.1.0-py3-none-any.whl (148 kB)\n",
            "\u001b[?25l     \u001b[90m━━━━━━━━━━━━━━━━━━━━━━━━━━━━━━━━━━━━━━━━\u001b[0m \u001b[32m0.0/148.6 kB\u001b[0m \u001b[31m?\u001b[0m eta \u001b[36m-:--:--\u001b[0m\r\u001b[2K     \u001b[91m━━━━━━━━━━━━━━━━━━━━━━━━━━━━━━━━\u001b[0m\u001b[90m╺\u001b[0m\u001b[90m━━━━━━\u001b[0m \u001b[32m122.9/148.6 kB\u001b[0m \u001b[31m3.7 MB/s\u001b[0m eta \u001b[36m0:00:01\u001b[0m\r\u001b[2K     \u001b[90m━━━━━━━━━━━━━━━━━━━━━━━━━━━━━━━━━━━━━━━\u001b[0m \u001b[32m148.6/148.6 kB\u001b[0m \u001b[31m3.1 MB/s\u001b[0m eta \u001b[36m0:00:00\u001b[0m\n",
            "\u001b[?25hRequirement already satisfied: packaging in /usr/local/lib/python3.10/dist-packages (from autokeras) (23.1)\n",
            "Requirement already satisfied: tensorflow>=2.8.0 in /usr/local/lib/python3.10/dist-packages (from autokeras) (2.13.0)\n",
            "Collecting keras-tuner>=1.1.0 (from autokeras)\n",
            "  Downloading keras_tuner-1.3.5-py3-none-any.whl (176 kB)\n",
            "\u001b[2K     \u001b[90m━━━━━━━━━━━━━━━━━━━━━━━━━━━━━━━━━━━━━━━\u001b[0m \u001b[32m176.1/176.1 kB\u001b[0m \u001b[31m9.8 MB/s\u001b[0m eta \u001b[36m0:00:00\u001b[0m\n",
            "\u001b[?25hCollecting keras-nlp>=0.4.0 (from autokeras)\n",
            "  Downloading keras_nlp-0.6.1-py3-none-any.whl (573 kB)\n",
            "\u001b[2K     \u001b[90m━━━━━━━━━━━━━━━━━━━━━━━━━━━━━━━━━━━━━━\u001b[0m \u001b[32m573.5/573.5 kB\u001b[0m \u001b[31m14.0 MB/s\u001b[0m eta \u001b[36m0:00:00\u001b[0m\n",
            "\u001b[?25hRequirement already satisfied: pandas in /usr/local/lib/python3.10/dist-packages (from autokeras) (1.5.3)\n",
            "Collecting keras-core (from keras-nlp>=0.4.0->autokeras)\n",
            "  Downloading keras_core-0.1.5-py3-none-any.whl (924 kB)\n",
            "\u001b[2K     \u001b[90m━━━━━━━━━━━━━━━━━━━━━━━━━━━━━━━━━━━━━━\u001b[0m \u001b[32m924.6/924.6 kB\u001b[0m \u001b[31m19.6 MB/s\u001b[0m eta \u001b[36m0:00:00\u001b[0m\n",
            "\u001b[?25hRequirement already satisfied: absl-py in /usr/local/lib/python3.10/dist-packages (from keras-nlp>=0.4.0->autokeras) (1.4.0)\n",
            "Requirement already satisfied: numpy in /usr/local/lib/python3.10/dist-packages (from keras-nlp>=0.4.0->autokeras) (1.23.5)\n",
            "Requirement already satisfied: regex in /usr/local/lib/python3.10/dist-packages (from keras-nlp>=0.4.0->autokeras) (2023.6.3)\n",
            "Requirement already satisfied: rich in /usr/local/lib/python3.10/dist-packages (from keras-nlp>=0.4.0->autokeras) (13.5.2)\n",
            "Collecting tensorflow-text (from keras-nlp>=0.4.0->autokeras)\n",
            "  Downloading tensorflow_text-2.13.0-cp310-cp310-manylinux_2_17_x86_64.manylinux2014_x86_64.whl (6.5 MB)\n",
            "\u001b[2K     \u001b[90m━━━━━━━━━━━━━━━━━━━━━━━━━━━━━━━━━━━━━━━━\u001b[0m \u001b[32m6.5/6.5 MB\u001b[0m \u001b[31m44.7 MB/s\u001b[0m eta \u001b[36m0:00:00\u001b[0m\n",
            "\u001b[?25hRequirement already satisfied: requests in /usr/local/lib/python3.10/dist-packages (from keras-tuner>=1.1.0->autokeras) (2.31.0)\n",
            "Collecting kt-legacy (from keras-tuner>=1.1.0->autokeras)\n",
            "  Downloading kt_legacy-1.0.5-py3-none-any.whl (9.6 kB)\n",
            "Requirement already satisfied: astunparse>=1.6.0 in /usr/local/lib/python3.10/dist-packages (from tensorflow>=2.8.0->autokeras) (1.6.3)\n",
            "Requirement already satisfied: flatbuffers>=23.1.21 in /usr/local/lib/python3.10/dist-packages (from tensorflow>=2.8.0->autokeras) (23.5.26)\n",
            "Requirement already satisfied: gast<=0.4.0,>=0.2.1 in /usr/local/lib/python3.10/dist-packages (from tensorflow>=2.8.0->autokeras) (0.4.0)\n",
            "Requirement already satisfied: google-pasta>=0.1.1 in /usr/local/lib/python3.10/dist-packages (from tensorflow>=2.8.0->autokeras) (0.2.0)\n",
            "Requirement already satisfied: grpcio<2.0,>=1.24.3 in /usr/local/lib/python3.10/dist-packages (from tensorflow>=2.8.0->autokeras) (1.57.0)\n",
            "Requirement already satisfied: h5py>=2.9.0 in /usr/local/lib/python3.10/dist-packages (from tensorflow>=2.8.0->autokeras) (3.9.0)\n",
            "Requirement already satisfied: keras<2.14,>=2.13.1 in /usr/local/lib/python3.10/dist-packages (from tensorflow>=2.8.0->autokeras) (2.13.1)\n",
            "Requirement already satisfied: libclang>=13.0.0 in /usr/local/lib/python3.10/dist-packages (from tensorflow>=2.8.0->autokeras) (16.0.6)\n",
            "Requirement already satisfied: opt-einsum>=2.3.2 in /usr/local/lib/python3.10/dist-packages (from tensorflow>=2.8.0->autokeras) (3.3.0)\n",
            "Requirement already satisfied: protobuf!=4.21.0,!=4.21.1,!=4.21.2,!=4.21.3,!=4.21.4,!=4.21.5,<5.0.0dev,>=3.20.3 in /usr/local/lib/python3.10/dist-packages (from tensorflow>=2.8.0->autokeras) (3.20.3)\n",
            "Requirement already satisfied: setuptools in /usr/local/lib/python3.10/dist-packages (from tensorflow>=2.8.0->autokeras) (67.7.2)\n",
            "Requirement already satisfied: six>=1.12.0 in /usr/local/lib/python3.10/dist-packages (from tensorflow>=2.8.0->autokeras) (1.16.0)\n",
            "Requirement already satisfied: tensorboard<2.14,>=2.13 in /usr/local/lib/python3.10/dist-packages (from tensorflow>=2.8.0->autokeras) (2.13.0)\n",
            "Requirement already satisfied: tensorflow-estimator<2.14,>=2.13.0 in /usr/local/lib/python3.10/dist-packages (from tensorflow>=2.8.0->autokeras) (2.13.0)\n",
            "Requirement already satisfied: termcolor>=1.1.0 in /usr/local/lib/python3.10/dist-packages (from tensorflow>=2.8.0->autokeras) (2.3.0)\n",
            "Requirement already satisfied: typing-extensions<4.6.0,>=3.6.6 in /usr/local/lib/python3.10/dist-packages (from tensorflow>=2.8.0->autokeras) (4.5.0)\n",
            "Requirement already satisfied: wrapt>=1.11.0 in /usr/local/lib/python3.10/dist-packages (from tensorflow>=2.8.0->autokeras) (1.15.0)\n",
            "Requirement already satisfied: tensorflow-io-gcs-filesystem>=0.23.1 in /usr/local/lib/python3.10/dist-packages (from tensorflow>=2.8.0->autokeras) (0.33.0)\n",
            "Requirement already satisfied: python-dateutil>=2.8.1 in /usr/local/lib/python3.10/dist-packages (from pandas->autokeras) (2.8.2)\n",
            "Requirement already satisfied: pytz>=2020.1 in /usr/local/lib/python3.10/dist-packages (from pandas->autokeras) (2023.3.post1)\n",
            "Requirement already satisfied: wheel<1.0,>=0.23.0 in /usr/local/lib/python3.10/dist-packages (from astunparse>=1.6.0->tensorflow>=2.8.0->autokeras) (0.41.2)\n",
            "Requirement already satisfied: google-auth<3,>=1.6.3 in /usr/local/lib/python3.10/dist-packages (from tensorboard<2.14,>=2.13->tensorflow>=2.8.0->autokeras) (2.17.3)\n",
            "Requirement already satisfied: google-auth-oauthlib<1.1,>=0.5 in /usr/local/lib/python3.10/dist-packages (from tensorboard<2.14,>=2.13->tensorflow>=2.8.0->autokeras) (1.0.0)\n",
            "Requirement already satisfied: markdown>=2.6.8 in /usr/local/lib/python3.10/dist-packages (from tensorboard<2.14,>=2.13->tensorflow>=2.8.0->autokeras) (3.4.4)\n",
            "Requirement already satisfied: tensorboard-data-server<0.8.0,>=0.7.0 in /usr/local/lib/python3.10/dist-packages (from tensorboard<2.14,>=2.13->tensorflow>=2.8.0->autokeras) (0.7.1)\n",
            "Requirement already satisfied: werkzeug>=1.0.1 in /usr/local/lib/python3.10/dist-packages (from tensorboard<2.14,>=2.13->tensorflow>=2.8.0->autokeras) (2.3.7)\n",
            "Requirement already satisfied: charset-normalizer<4,>=2 in /usr/local/lib/python3.10/dist-packages (from requests->keras-tuner>=1.1.0->autokeras) (3.2.0)\n",
            "Requirement already satisfied: idna<4,>=2.5 in /usr/local/lib/python3.10/dist-packages (from requests->keras-tuner>=1.1.0->autokeras) (3.4)\n",
            "Requirement already satisfied: urllib3<3,>=1.21.1 in /usr/local/lib/python3.10/dist-packages (from requests->keras-tuner>=1.1.0->autokeras) (2.0.4)\n",
            "Requirement already satisfied: certifi>=2017.4.17 in /usr/local/lib/python3.10/dist-packages (from requests->keras-tuner>=1.1.0->autokeras) (2023.7.22)\n",
            "Collecting namex (from keras-core->keras-nlp>=0.4.0->autokeras)\n",
            "  Downloading namex-0.0.7-py3-none-any.whl (5.8 kB)\n",
            "Requirement already satisfied: dm-tree in /usr/local/lib/python3.10/dist-packages (from keras-core->keras-nlp>=0.4.0->autokeras) (0.1.8)\n",
            "Requirement already satisfied: markdown-it-py>=2.2.0 in /usr/local/lib/python3.10/dist-packages (from rich->keras-nlp>=0.4.0->autokeras) (3.0.0)\n",
            "Requirement already satisfied: pygments<3.0.0,>=2.13.0 in /usr/local/lib/python3.10/dist-packages (from rich->keras-nlp>=0.4.0->autokeras) (2.16.1)\n",
            "Requirement already satisfied: tensorflow-hub>=0.8.0 in /usr/local/lib/python3.10/dist-packages (from tensorflow-text->keras-nlp>=0.4.0->autokeras) (0.14.0)\n",
            "Requirement already satisfied: cachetools<6.0,>=2.0.0 in /usr/local/lib/python3.10/dist-packages (from google-auth<3,>=1.6.3->tensorboard<2.14,>=2.13->tensorflow>=2.8.0->autokeras) (5.3.1)\n",
            "Requirement already satisfied: pyasn1-modules>=0.2.1 in /usr/local/lib/python3.10/dist-packages (from google-auth<3,>=1.6.3->tensorboard<2.14,>=2.13->tensorflow>=2.8.0->autokeras) (0.3.0)\n",
            "Requirement already satisfied: rsa<5,>=3.1.4 in /usr/local/lib/python3.10/dist-packages (from google-auth<3,>=1.6.3->tensorboard<2.14,>=2.13->tensorflow>=2.8.0->autokeras) (4.9)\n",
            "Requirement already satisfied: requests-oauthlib>=0.7.0 in /usr/local/lib/python3.10/dist-packages (from google-auth-oauthlib<1.1,>=0.5->tensorboard<2.14,>=2.13->tensorflow>=2.8.0->autokeras) (1.3.1)\n",
            "Requirement already satisfied: mdurl~=0.1 in /usr/local/lib/python3.10/dist-packages (from markdown-it-py>=2.2.0->rich->keras-nlp>=0.4.0->autokeras) (0.1.2)\n",
            "Requirement already satisfied: MarkupSafe>=2.1.1 in /usr/local/lib/python3.10/dist-packages (from werkzeug>=1.0.1->tensorboard<2.14,>=2.13->tensorflow>=2.8.0->autokeras) (2.1.3)\n",
            "Requirement already satisfied: pyasn1<0.6.0,>=0.4.6 in /usr/local/lib/python3.10/dist-packages (from pyasn1-modules>=0.2.1->google-auth<3,>=1.6.3->tensorboard<2.14,>=2.13->tensorflow>=2.8.0->autokeras) (0.5.0)\n",
            "Requirement already satisfied: oauthlib>=3.0.0 in /usr/local/lib/python3.10/dist-packages (from requests-oauthlib>=0.7.0->google-auth-oauthlib<1.1,>=0.5->tensorboard<2.14,>=2.13->tensorflow>=2.8.0->autokeras) (3.2.2)\n",
            "Installing collected packages: namex, kt-legacy, keras-tuner, keras-core, tensorflow-text, keras-nlp, autokeras\n",
            "Successfully installed autokeras-1.1.0 keras-core-0.1.5 keras-nlp-0.6.1 keras-tuner-1.3.5 kt-legacy-1.0.5 namex-0.0.7 tensorflow-text-2.13.0\n"
          ]
        }
      ]
    },
    {
      "cell_type": "code",
      "source": [
        "import autokeras as ak\n",
        "\n",
        "# Initialize the IO API.\n",
        "io_model = ak.AutoModel(\n",
        "    inputs=ak.ImageInput(),\n",
        "    outputs=ak.ClassificationHead(\n",
        "        loss=\"categorical_crossentropy\", metrics=[\"accuracy\"]\n",
        "    ),\n",
        "    objective=\"val_loss\",\n",
        "    tuner=\"random\",\n",
        "    max_trials=3,\n",
        "    overwrite=True,\n",
        ")\n",
        "\n",
        "# Fit the model with prepared data.\n",
        "# Use the first 100 training samples for 1 epoch as a quick demo.\n",
        "# You may run with the full dataset with 10 epochs, but expect a longer training time.\n",
        "io_model.fit(x_train[:100], y_train[:100], epochs=1)\n"
      ],
      "metadata": {
        "colab": {
          "base_uri": "https://localhost:8080/"
        },
        "id": "8-14tMtFu6KC",
        "outputId": "7c8c9399-87da-4f09-bfa2-6f39ee3b16f4"
      },
      "execution_count": 4,
      "outputs": [
        {
          "output_type": "stream",
          "name": "stdout",
          "text": [
            "Trial 3 Complete [00h 00m 23s]\n",
            "val_loss: 2.505357027053833\n",
            "\n",
            "Best val_loss So Far: 2.302487373352051\n",
            "Total elapsed time: 00h 01m 31s\n",
            "4/4 [==============================] - 32s 3s/step - loss: 2.3646 - accuracy: 0.0700\n"
          ]
        },
        {
          "output_type": "execute_result",
          "data": {
            "text/plain": [
              "<keras.src.callbacks.History at 0x78f997d11db0>"
            ]
          },
          "metadata": {},
          "execution_count": 4
        }
      ]
    },
    {
      "cell_type": "markdown",
      "source": [
        "## get the summarized result during the tunin process (return the best 10 models if"
      ],
      "metadata": {
        "id": "XRURBw7pwNWl"
      }
    },
    {
      "cell_type": "code",
      "source": [
        "io_model.tuner.results_summary()"
      ],
      "metadata": {
        "colab": {
          "base_uri": "https://localhost:8080/"
        },
        "id": "C1fgrix7vg4z",
        "outputId": "c9f139a6-1c25-4aa1-e621-2b52f8855dd3"
      },
      "execution_count": 5,
      "outputs": [
        {
          "output_type": "stream",
          "name": "stdout",
          "text": [
            "Results summary\n",
            "Results in ./auto_model\n",
            "Showing 10 best trials\n",
            "Objective(name=\"val_loss\", direction=\"min\")\n",
            "\n",
            "Trial 1 summary\n",
            "Hyperparameters:\n",
            "image_block_1/normalize: True\n",
            "image_block_1/augment: True\n",
            "image_block_1/block_type: xception\n",
            "classification_head_1/spatial_reduction_1/reduction_type: flatten\n",
            "classification_head_1/dropout: 0.25\n",
            "optimizer: adam_weight_decay\n",
            "learning_rate: 1e-05\n",
            "image_block_1/image_augmentation_1/translation_factor: 0.0\n",
            "image_block_1/image_augmentation_1/horizontal_flip: True\n",
            "image_block_1/image_augmentation_1/vertical_flip: True\n",
            "image_block_1/image_augmentation_1/rotation_factor: 0.0\n",
            "image_block_1/image_augmentation_1/zoom_factor: 0.0\n",
            "image_block_1/image_augmentation_1/contrast_factor: 0.0\n",
            "image_block_1/xception_block_1/pretrained: False\n",
            "image_block_1/xception_block_1/imagenet_size: False\n",
            "Score: 2.302487373352051\n",
            "\n",
            "Trial 0 summary\n",
            "Hyperparameters:\n",
            "image_block_1/normalize: False\n",
            "image_block_1/augment: False\n",
            "image_block_1/block_type: efficient\n",
            "classification_head_1/spatial_reduction_1/reduction_type: flatten\n",
            "classification_head_1/dropout: 0.25\n",
            "optimizer: sgd\n",
            "learning_rate: 0.0001\n",
            "image_block_1/efficient_net_block_1/pretrained: False\n",
            "image_block_1/efficient_net_block_1/version: b0\n",
            "image_block_1/efficient_net_block_1/imagenet_size: False\n",
            "Score: 2.3030436038970947\n",
            "\n",
            "Trial 2 summary\n",
            "Hyperparameters:\n",
            "image_block_1/normalize: False\n",
            "image_block_1/augment: True\n",
            "image_block_1/block_type: resnet\n",
            "image_block_1/res_net_block_1/pretrained: False\n",
            "image_block_1/res_net_block_1/version: resnet50\n",
            "image_block_1/res_net_block_1/imagenet_size: False\n",
            "classification_head_1/spatial_reduction_1/reduction_type: global_max\n",
            "classification_head_1/dropout: 0.25\n",
            "optimizer: sgd\n",
            "learning_rate: 2e-05\n",
            "image_block_1/image_augmentation_1/translation_factor: 0.1\n",
            "image_block_1/image_augmentation_1/horizontal_flip: False\n",
            "image_block_1/image_augmentation_1/vertical_flip: True\n",
            "image_block_1/image_augmentation_1/rotation_factor: 0.1\n",
            "image_block_1/image_augmentation_1/zoom_factor: 0.0\n",
            "image_block_1/image_augmentation_1/contrast_factor: 0.0\n",
            "Score: 2.505357027053833\n"
          ]
        }
      ]
    },
    {
      "cell_type": "code",
      "source": [
        "best_model = io_model.export_model()\n",
        "best_model.summary()"
      ],
      "metadata": {
        "colab": {
          "base_uri": "https://localhost:8080/"
        },
        "id": "2ffMYvcIwYrq",
        "outputId": "2df11272-bf07-4db7-c1bc-dd69e2e3e50e"
      },
      "execution_count": 6,
      "outputs": [
        {
          "output_type": "stream",
          "name": "stdout",
          "text": [
            "Model: \"model\"\n",
            "__________________________________________________________________________________________________\n",
            " Layer (type)                Output Shape                 Param #   Connected to                  \n",
            "==================================================================================================\n",
            " input_1 (InputLayer)        [(None, 28, 28)]             0         []                            \n",
            "                                                                                                  \n",
            " cast_to_float32 (CastToFlo  (None, 28, 28)               0         ['input_1[0][0]']             \n",
            " at32)                                                                                            \n",
            "                                                                                                  \n",
            " expand_last_dim (ExpandLas  (None, 28, 28, 1)            0         ['cast_to_float32[0][0]']     \n",
            " tDim)                                                                                            \n",
            "                                                                                                  \n",
            " normalization (Normalizati  (None, 28, 28, 1)            3         ['expand_last_dim[0][0]']     \n",
            " on)                                                                                              \n",
            "                                                                                                  \n",
            " random_flip (RandomFlip)    (None, 28, 28, 1)            0         ['normalization[0][0]']       \n",
            "                                                                                                  \n",
            " resizing (Resizing)         (None, 71, 71, 1)            0         ['random_flip[0][0]']         \n",
            "                                                                                                  \n",
            " concatenate (Concatenate)   (None, 71, 71, 3)            0         ['resizing[0][0]',            \n",
            "                                                                     'resizing[0][0]',            \n",
            "                                                                     'resizing[0][0]']            \n",
            "                                                                                                  \n",
            " xception (Functional)       (None, 3, 3, 2048)           2086148   ['concatenate[0][0]']         \n",
            "                                                          0                                       \n",
            "                                                                                                  \n",
            " flatten (Flatten)           (None, 18432)                0         ['xception[0][0]']            \n",
            "                                                                                                  \n",
            " dropout (Dropout)           (None, 18432)                0         ['flatten[0][0]']             \n",
            "                                                                                                  \n",
            " dense (Dense)               (None, 10)                   184330    ['dropout[0][0]']             \n",
            "                                                                                                  \n",
            " classification_head_1 (Sof  (None, 10)                   0         ['dense[0][0]']               \n",
            " tmax)                                                                                            \n",
            "                                                                                                  \n",
            "==================================================================================================\n",
            "Total params: 21045813 (80.28 MB)\n",
            "Trainable params: 20991282 (80.08 MB)\n",
            "Non-trainable params: 54531 (213.02 KB)\n",
            "__________________________________________________________________________________________________\n"
          ]
        }
      ]
    },
    {
      "cell_type": "code",
      "source": [
        "predicted_y = io_model.predict(x_test[:100])\n",
        "print(predicted_y)"
      ],
      "metadata": {
        "colab": {
          "base_uri": "https://localhost:8080/"
        },
        "id": "2uvc_6TBwcsg",
        "outputId": "09721308-6aac-4bd2-b995-9c27ceaea299"
      },
      "execution_count": 7,
      "outputs": [
        {
          "output_type": "stream",
          "name": "stdout",
          "text": [
            "4/4 [==============================] - 3s 479ms/step\n",
            "4/4 [==============================] - 2s 490ms/step\n",
            "[['1']\n",
            " ['1']\n",
            " ['1']\n",
            " ['1']\n",
            " ['1']\n",
            " ['1']\n",
            " ['1']\n",
            " ['1']\n",
            " ['1']\n",
            " ['1']\n",
            " ['1']\n",
            " ['1']\n",
            " ['1']\n",
            " ['1']\n",
            " ['1']\n",
            " ['1']\n",
            " ['1']\n",
            " ['1']\n",
            " ['1']\n",
            " ['1']\n",
            " ['1']\n",
            " ['1']\n",
            " ['1']\n",
            " ['1']\n",
            " ['1']\n",
            " ['1']\n",
            " ['1']\n",
            " ['1']\n",
            " ['1']\n",
            " ['1']\n",
            " ['1']\n",
            " ['1']\n",
            " ['1']\n",
            " ['1']\n",
            " ['1']\n",
            " ['1']\n",
            " ['1']\n",
            " ['1']\n",
            " ['1']\n",
            " ['1']\n",
            " ['1']\n",
            " ['1']\n",
            " ['1']\n",
            " ['1']\n",
            " ['1']\n",
            " ['1']\n",
            " ['1']\n",
            " ['1']\n",
            " ['1']\n",
            " ['1']\n",
            " ['1']\n",
            " ['1']\n",
            " ['1']\n",
            " ['1']\n",
            " ['1']\n",
            " ['1']\n",
            " ['1']\n",
            " ['1']\n",
            " ['1']\n",
            " ['1']\n",
            " ['1']\n",
            " ['1']\n",
            " ['1']\n",
            " ['1']\n",
            " ['1']\n",
            " ['1']\n",
            " ['1']\n",
            " ['1']\n",
            " ['1']\n",
            " ['1']\n",
            " ['1']\n",
            " ['1']\n",
            " ['1']\n",
            " ['1']\n",
            " ['1']\n",
            " ['1']\n",
            " ['1']\n",
            " ['1']\n",
            " ['1']\n",
            " ['1']\n",
            " ['1']\n",
            " ['1']\n",
            " ['1']\n",
            " ['1']\n",
            " ['1']\n",
            " ['1']\n",
            " ['1']\n",
            " ['1']\n",
            " ['1']\n",
            " ['1']\n",
            " ['1']\n",
            " ['1']\n",
            " ['1']\n",
            " ['1']\n",
            " ['1']\n",
            " ['1']\n",
            " ['1']\n",
            " ['1']\n",
            " ['1']\n",
            " ['1']]\n"
          ]
        }
      ]
    },
    {
      "cell_type": "code",
      "source": [
        "test_loss, test_acc = io_model.evaluate(x_test[:100], y_test[:100])\n",
        "print(\"Test accuracy: \", test_acc)"
      ],
      "metadata": {
        "colab": {
          "base_uri": "https://localhost:8080/"
        },
        "id": "1QKjWC4wwknM",
        "outputId": "0011fb7d-e090-46aa-fb8d-ef763c2319ba"
      },
      "execution_count": 8,
      "outputs": [
        {
          "output_type": "stream",
          "name": "stdout",
          "text": [
            "4/4 [==============================] - 5s 1s/step - loss: 2.3026 - accuracy: 0.1400\n",
            "Test accuracy:  0.14000000059604645\n"
          ]
        }
      ]
    },
    {
      "cell_type": "code",
      "source": [],
      "metadata": {
        "id": "q-mm_3CNwlpK"
      },
      "execution_count": null,
      "outputs": []
    }
  ]
}