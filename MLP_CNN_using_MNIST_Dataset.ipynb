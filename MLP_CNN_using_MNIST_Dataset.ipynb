{
  "nbformat": 4,
  "nbformat_minor": 0,
  "metadata": {
    "colab": {
      "provenance": [],
      "authorship_tag": "ABX9TyOtmWj0Y6N1NZBjvXgXHwos",
      "include_colab_link": true
    },
    "kernelspec": {
      "name": "python3",
      "display_name": "Python 3"
    },
    "language_info": {
      "name": "python"
    }
  },
  "cells": [
    {
      "cell_type": "markdown",
      "metadata": {
        "id": "view-in-github",
        "colab_type": "text"
      },
      "source": [
        "<a href=\"https://colab.research.google.com/github/zacksfF/Automated_ML-in-real-world-app/blob/main/MLP_CNN_using_MNIST_Dataset.ipynb\" target=\"_parent\"><img src=\"https://colab.research.google.com/assets/colab-badge.svg\" alt=\"Open In Colab\"/></a>"
      ]
    },
    {
      "cell_type": "code",
      "execution_count": 3,
      "metadata": {
        "id": "HD9TWVygfzLg"
      },
      "outputs": [],
      "source": [
        "#Import tensorflow\n",
        "import tensorflow as tf\n",
        "tf.random.set_seed(42)"
      ]
    },
    {
      "cell_type": "markdown",
      "source": [
        "##Load data"
      ],
      "metadata": {
        "id": "SFgm-zu_iHOQ"
      }
    },
    {
      "cell_type": "code",
      "source": [
        "from tensorflow.keras.datasets import mnist\n",
        "(train_images, train_labels), (test_images, test_labels) = mnist.load_data()"
      ],
      "metadata": {
        "colab": {
          "base_uri": "https://localhost:8080/"
        },
        "id": "LHKC8uG1iAUE",
        "outputId": "4cc6e283-7814-4204-b951-c6129a802e89"
      },
      "execution_count": 6,
      "outputs": [
        {
          "output_type": "stream",
          "name": "stdout",
          "text": [
            "Downloading data from https://storage.googleapis.com/tensorflow/tf-keras-datasets/mnist.npz\n",
            "11490434/11490434 [==============================] - 1s 0us/step\n"
          ]
        }
      ]
    },
    {
      "cell_type": "markdown",
      "source": [
        "##Explore daata"
      ],
      "metadata": {
        "id": "8dByH0m0iln3"
      }
    },
    {
      "cell_type": "code",
      "source": [
        "train_images.shape, test_images.shape"
      ],
      "metadata": {
        "colab": {
          "base_uri": "https://localhost:8080/"
        },
        "id": "rt0HGY4NidqT",
        "outputId": "4ba1cd53-a707-4cac-d12d-c2905d74241f"
      },
      "execution_count": 7,
      "outputs": [
        {
          "output_type": "execute_result",
          "data": {
            "text/plain": [
              "((60000, 28, 28), (10000, 28, 28))"
            ]
          },
          "metadata": {},
          "execution_count": 7
        }
      ]
    },
    {
      "cell_type": "code",
      "source": [
        "len(train_labels), len(test_labels)"
      ],
      "metadata": {
        "colab": {
          "base_uri": "https://localhost:8080/"
        },
        "id": "9SfwF_H7isjQ",
        "outputId": "c4c8c378-ca5d-433f-be2a-e0760eae5aad"
      },
      "execution_count": 8,
      "outputs": [
        {
          "output_type": "execute_result",
          "data": {
            "text/plain": [
              "(60000, 10000)"
            ]
          },
          "metadata": {},
          "execution_count": 8
        }
      ]
    },
    {
      "cell_type": "code",
      "source": [
        "train_labels, test_labels"
      ],
      "metadata": {
        "colab": {
          "base_uri": "https://localhost:8080/"
        },
        "id": "obO6Xbfnix8A",
        "outputId": "49c287d0-4327-41c0-9f43-3c27764ee269"
      },
      "execution_count": 9,
      "outputs": [
        {
          "output_type": "execute_result",
          "data": {
            "text/plain": [
              "(array([5, 0, 4, ..., 5, 6, 8], dtype=uint8),\n",
              " array([7, 2, 1, ..., 4, 5, 6], dtype=uint8))"
            ]
          },
          "metadata": {},
          "execution_count": 9
        }
      ]
    },
    {
      "cell_type": "markdown",
      "source": [
        "## let's Visualize the daataa"
      ],
      "metadata": {
        "id": "IvnRn0IZi3Xm"
      }
    },
    {
      "cell_type": "code",
      "source": [
        "import matplotlib.pyplot as plt\n",
        "\n",
        "plt.figure()\n",
        "plt.imshow(train_images[0]) #, cmap='gray\n",
        "plt.colorbar()\n",
        "plt.title(\"Labem is {label}\".format(label=train_labels[0]))\n",
        "plt.show()"
      ],
      "metadata": {
        "colab": {
          "base_uri": "https://localhost:8080/",
          "height": 452
        },
        "id": "bzu9Suaoi189",
        "outputId": "bff2543e-7f81-4c76-d8c3-103ea19d4bbb"
      },
      "execution_count": 11,
      "outputs": [
        {
          "output_type": "display_data",
          "data": {
            "text/plain": [
              "<Figure size 640x480 with 2 Axes>"
            ],
            "image/png": "[encoded data removed]"
          },
          "metadata": {}
        }
      ]
    },
    {
      "cell_type": "markdown",
      "source": [
        "## data Preprocessing: scaling"
      ],
      "metadata": {
        "id": "ZCa-RrJojcgg"
      }
    },
    {
      "cell_type": "code",
      "source": [
        "train_images = train_images / 255.0\n",
        "test_images = test_images / 255.0"
      ],
      "metadata": {
        "id": "H4rTpEjNjV1A"
      },
      "execution_count": 15,
      "outputs": []
    },
    {
      "cell_type": "code",
      "source": [
        "%matplotlib inline"
      ],
      "metadata": {
        "id": "rSRFLfUwjn41"
      },
      "execution_count": 17,
      "outputs": []
    },
    {
      "cell_type": "code",
      "source": [
        "# plot first 20 images\n",
        "n = 20\n",
        "_, axes = plt.subplots(2, 10, figsize=(10,2))\n",
        "plt.tight_layout()\n",
        "for i in range(n):\n",
        "  row, col = i // 10, i % 10\n",
        "  axes[row, col].set_axis_off()\n",
        "  axes[row, col].imshow(\n",
        "      train_images[\n",
        "          i,\n",
        "      ],\n",
        "      cmap=plt.cm.binary,\n",
        "      interpolation = \"nearest\"\n",
        "  ) # plt.cm.gray_r\n",
        "  axes[row, col].set_title(\"Label: %i\"% train_labels[i])"
      ],
      "metadata": {
        "colab": {
          "base_uri": "https://localhost:8080/",
          "height": 199
        },
        "id": "w1dEJITrj8AR",
        "outputId": "0f9ab1e0-0c24-40fe-ef47-dfdeee394e47"
      },
      "execution_count": 18,
      "outputs": [
        {
          "output_type": "display_data",
          "data": {
            "text/plain": [
              "<Figure size 1000x200 with 20 Axes>"
            ],
            "image/png": "[encoded data removed]"
          },
          "metadata": {}
        }
      ]
    },
    {
      "cell_type": "markdown",
      "source": [
        "## Build MLP"
      ],
      "metadata": {
        "id": "hhjSRMwUlE-L"
      }
    },
    {
      "cell_type": "code",
      "source": [
        "from tensorflow import keras\n",
        "from tensorflow.keras import layers\n",
        "\n",
        "mlp_model = keras.Sequential(\n",
        "    [\n",
        "        keras.layers.Flatten(input_shape = train_images.shape[1:]),\n",
        "        keras.layers.Dense(128, activation=\"relu\"),\n",
        "        keras.layers.Dense(10, activation=\"softmax\"),\n",
        "    ]\n",
        ")\n",
        "mlp_model.compile(\n",
        "    optimizer=\"adam\",\n",
        "    loss=tf.keras.losses.SparseCategoricalCrossentropy(),\n",
        "    metrics=[\"accuracy\"]\n",
        ")"
      ],
      "metadata": {
        "id": "5238Sm9OlHlW"
      },
      "execution_count": 19,
      "outputs": []
    },
    {
      "cell_type": "code",
      "source": [
        "mlp_model.summary()"
      ],
      "metadata": {
        "colab": {
          "base_uri": "https://localhost:8080/"
        },
        "id": "niJNl9hjmWne",
        "outputId": "0d12d732-d22b-4f86-e569-1fc01cf237f5"
      },
      "execution_count": 20,
      "outputs": [
        {
          "output_type": "stream",
          "name": "stdout",
          "text": [
            "Model: \"sequential\"\n",
            "_________________________________________________________________\n",
            " Layer (type)                Output Shape              Param #   \n",
            "=================================================================\n",
            " flatten (Flatten)           (None, 784)               0         \n",
            "                                                                 \n",
            " dense (Dense)               (None, 128)               100480    \n",
            "                                                                 \n",
            " dense_1 (Dense)             (None, 10)                1290      \n",
            "                                                                 \n",
            "=================================================================\n",
            "Total params: 101,770\n",
            "Trainable params: 101,770\n",
            "Non-trainable params: 0\n",
            "_________________________________________________________________\n"
          ]
        }
      ]
    },
    {
      "cell_type": "code",
      "source": [
        "mlp_model.fit(train_images, train_labels, epochs=5, batch_size=64, verbose=1)"
      ],
      "metadata": {
        "colab": {
          "base_uri": "https://localhost:8080/"
        },
        "id": "Bl98GiXUmZgu",
        "outputId": "31a2e17b-b032-400a-cdb4-9a24e3581830"
      },
      "execution_count": 22,
      "outputs": [
        {
          "output_type": "stream",
          "name": "stdout",
          "text": [
            "Epoch 1/5\n",
            "938/938 [==============================] - 4s 3ms/step - loss: 2.3014 - accuracy: 0.1119\n",
            "Epoch 2/5\n",
            "938/938 [==============================] - 3s 3ms/step - loss: 2.3011 - accuracy: 0.1124\n",
            "Epoch 3/5\n",
            "938/938 [==============================] - 3s 3ms/step - loss: 2.3008 - accuracy: 0.1124\n",
            "Epoch 4/5\n",
            "938/938 [==============================] - 4s 4ms/step - loss: 2.3002 - accuracy: 0.1124\n",
            "Epoch 5/5\n",
            "938/938 [==============================] - 3s 3ms/step - loss: 2.2988 - accuracy: 0.1124\n"
          ]
        },
        {
          "output_type": "execute_result",
          "data": {
            "text/plain": [
              "<keras.callbacks.History at 0x7a465200aaa0>"
            ]
          },
          "metadata": {},
          "execution_count": 22
        }
      ]
    },
    {
      "cell_type": "code",
      "source": [
        "test_loss, test_acc= mlp_model.evaluate(test_images, test_labels, verbose= 0)\n",
        "test_acc"
      ],
      "metadata": {
        "colab": {
          "base_uri": "https://localhost:8080/"
        },
        "id": "2iVOqk8Tmm4a",
        "outputId": "124a816d-3fd3-44e3-ec3d-5c505f497680"
      },
      "execution_count": 23,
      "outputs": [
        {
          "output_type": "execute_result",
          "data": {
            "text/plain": [
              "0.11349999904632568"
            ]
          },
          "metadata": {},
          "execution_count": 23
        }
      ]
    },
    {
      "cell_type": "markdown",
      "source": [
        "## Build a Conventional neurl networks"
      ],
      "metadata": {
        "id": "8MyyRvENnVuu"
      }
    },
    {
      "cell_type": "code",
      "source": [
        "# CNN\n",
        "def build_cnn():\n",
        "  model = keras.Sequential(\n",
        "      [\n",
        "          keras.layers.Conv2D(\n",
        "              32, (3 , 3), activation=\"relu\", input_shape = train_images.shape[1:] + (1,)\n",
        "          ),\n",
        "          keras.layers.MaxPooling2D((2,2)),\n",
        "          keras.layers.Conv2D(64, (3, 3), activation = \"relu\"),\n",
        "          keras.layers.Flatten(),\n",
        "          keras.layers.Dense(64, activation=\"relu\"),\n",
        "          keras.layers.Dense(10, activation=\"softmax\")\n",
        "      ]\n",
        "  )\n",
        "  model.compile(\n",
        "      optimizer=\"adam\",\n",
        "      loss=tf.keras.losses.SparseCategoricalCrossentropy(),\n",
        "      metrics = [\"accuracy\"]\n",
        "  )\n",
        "  return model"
      ],
      "metadata": {
        "id": "RXZaGAytnSrG"
      },
      "execution_count": 25,
      "outputs": []
    },
    {
      "cell_type": "code",
      "source": [
        "cnn_model = build_cnn()"
      ],
      "metadata": {
        "id": "u6g35R34ovbW"
      },
      "execution_count": 26,
      "outputs": []
    },
    {
      "cell_type": "code",
      "source": [
        "cnn_model.summary()"
      ],
      "metadata": {
        "colab": {
          "base_uri": "https://localhost:8080/"
        },
        "id": "_r39bWCVo_nC",
        "outputId": "c1bc007b-bcd6-4851-d442-ec582e043ba1"
      },
      "execution_count": 27,
      "outputs": [
        {
          "output_type": "stream",
          "name": "stdout",
          "text": [
            "Model: \"sequential_1\"\n",
            "_________________________________________________________________\n",
            " Layer (type)                Output Shape              Param #   \n",
            "=================================================================\n",
            " conv2d (Conv2D)             (None, 26, 26, 32)        320       \n",
            "                                                                 \n",
            " max_pooling2d (MaxPooling2D  (None, 13, 13, 32)       0         \n",
            " )                                                               \n",
            "                                                                 \n",
            " conv2d_1 (Conv2D)           (None, 11, 11, 64)        18496     \n",
            "                                                                 \n",
            " flatten_1 (Flatten)         (None, 7744)              0         \n",
            "                                                                 \n",
            " dense_2 (Dense)             (None, 64)                495680    \n",
            "                                                                 \n",
            " dense_3 (Dense)             (None, 10)                650       \n",
            "                                                                 \n",
            "=================================================================\n",
            "Total params: 515,146\n",
            "Trainable params: 515,146\n",
            "Non-trainable params: 0\n",
            "_________________________________________________________________\n"
          ]
        }
      ]
    },
    {
      "cell_type": "code",
      "source": [
        "train_images_4d = train_images[..., tf.newaxis]\n",
        "test_images_4d = test_images[..., tf.newaxis]\n",
        "train_images_4d.shape, test_images_4d.shape"
      ],
      "metadata": {
        "colab": {
          "base_uri": "https://localhost:8080/"
        },
        "id": "JjPN8mrSpD82",
        "outputId": "e2ff1c02-9443-46a2-b1db-9254ebfdc347"
      },
      "execution_count": 28,
      "outputs": [
        {
          "output_type": "execute_result",
          "data": {
            "text/plain": [
              "((60000, 28, 28, 1), (10000, 28, 28, 1))"
            ]
          },
          "metadata": {},
          "execution_count": 28
        }
      ]
    },
    {
      "cell_type": "code",
      "source": [
        "cnn_model.fit(train_images_4d, train_labels, epochs=5, batch_size=64, verbose=1 )"
      ],
      "metadata": {
        "colab": {
          "base_uri": "https://localhost:8080/"
        },
        "id": "3Wv5NpoSpoFW",
        "outputId": "9026f239-80af-41a9-dd80-b0f7bff0648b"
      },
      "execution_count": 30,
      "outputs": [
        {
          "output_type": "stream",
          "name": "stdout",
          "text": [
            "Epoch 1/5\n",
            "938/938 [==============================] - 54s 57ms/step - loss: 2.3015 - accuracy: 0.1110\n",
            "Epoch 2/5\n",
            "938/938 [==============================] - 53s 57ms/step - loss: 2.3013 - accuracy: 0.1124\n",
            "Epoch 3/5\n",
            "938/938 [==============================] - 53s 57ms/step - loss: 2.3013 - accuracy: 0.1124\n",
            "Epoch 4/5\n",
            "938/938 [==============================] - 52s 56ms/step - loss: 2.3013 - accuracy: 0.1124\n",
            "Epoch 5/5\n",
            "938/938 [==============================] - 55s 59ms/step - loss: 2.3013 - accuracy: 0.1124\n"
          ]
        },
        {
          "output_type": "execute_result",
          "data": {
            "text/plain": [
              "<keras.callbacks.History at 0x7a46304fa830>"
            ]
          },
          "metadata": {},
          "execution_count": 30
        }
      ]
    },
    {
      "cell_type": "code",
      "source": [
        "test_loss, test_acc = cnn_model.evaluate(test_images_4d, test_labels, verbose=0)\n",
        "test_acc"
      ],
      "metadata": {
        "colab": {
          "base_uri": "https://localhost:8080/"
        },
        "id": "vd1BvsnPqBlo",
        "outputId": "4a2407c3-5679-4a05-89af-257133302517"
      },
      "execution_count": 31,
      "outputs": [
        {
          "output_type": "execute_result",
          "data": {
            "text/plain": [
              "0.11349999904632568"
            ]
          },
          "metadata": {},
          "execution_count": 31
        }
      ]
    },
    {
      "cell_type": "markdown",
      "source": [
        "## Make Prediction"
      ],
      "metadata": {
        "id": "E5nLACpiqDze"
      }
    },
    {
      "cell_type": "code",
      "source": [
        "test_predictions = cnn_model.predict(test_images_4d)\n",
        "test_predictions[:5]"
      ],
      "metadata": {
        "colab": {
          "base_uri": "https://localhost:8080/"
        },
        "id": "aINUvN8cqHNh",
        "outputId": "44f857fb-96a2-4eec-909b-498da417aa85"
      },
      "execution_count": 32,
      "outputs": [
        {
          "output_type": "stream",
          "name": "stdout",
          "text": [
            "313/313 [==============================] - 3s 10ms/step\n"
          ]
        },
        {
          "output_type": "execute_result",
          "data": {
            "text/plain": [
              "array([[0.09757596, 0.11176006, 0.10053533, 0.10127089, 0.09735024,\n",
              "        0.09068286, 0.0983051 , 0.10535482, 0.09698896, 0.10017569],\n",
              "       [0.09757596, 0.11176006, 0.10053533, 0.10127089, 0.09735024,\n",
              "        0.09068286, 0.0983051 , 0.10535482, 0.09698896, 0.10017569],\n",
              "       [0.09757596, 0.11176006, 0.10053533, 0.10127089, 0.09735024,\n",
              "        0.09068286, 0.0983051 , 0.10535482, 0.09698896, 0.10017569],\n",
              "       [0.09757596, 0.11176006, 0.10053533, 0.10127089, 0.09735024,\n",
              "        0.09068286, 0.0983051 , 0.10535482, 0.09698896, 0.10017569],\n",
              "       [0.09757596, 0.11176006, 0.10053533, 0.10127089, 0.09735024,\n",
              "        0.09068286, 0.0983051 , 0.10535482, 0.09698896, 0.10017569]],\n",
              "      dtype=float32)"
            ]
          },
          "metadata": {},
          "execution_count": 32
        }
      ]
    },
    {
      "cell_type": "code",
      "source": [
        "import numpy as np\n",
        "np.argmax(test_predictions[0])"
      ],
      "metadata": {
        "colab": {
          "base_uri": "https://localhost:8080/"
        },
        "id": "2XA1fha7qfNH",
        "outputId": "7ed93f78-61ea-4ad1-9a3d-ea2bca390d19"
      },
      "execution_count": 33,
      "outputs": [
        {
          "output_type": "execute_result",
          "data": {
            "text/plain": [
              "1"
            ]
          },
          "metadata": {},
          "execution_count": 33
        }
      ]
    },
    {
      "cell_type": "code",
      "source": [
        "test_labels[0]"
      ],
      "metadata": {
        "colab": {
          "base_uri": "https://localhost:8080/"
        },
        "id": "dw43sMU2qnFH",
        "outputId": "9c678279-f510-46b1-d2ed-3eaf94a2142c"
      },
      "execution_count": 34,
      "outputs": [
        {
          "output_type": "execute_result",
          "data": {
            "text/plain": [
              "7"
            ]
          },
          "metadata": {},
          "execution_count": 34
        }
      ]
    }
  ]
}