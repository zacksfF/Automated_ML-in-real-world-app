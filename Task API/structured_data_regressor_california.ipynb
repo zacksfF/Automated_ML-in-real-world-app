{
  "nbformat": 4,
  "nbformat_minor": 0,
  "metadata": {
    "colab": {
      "provenance": [],
      "gpuType": "T4"
    },
    "kernelspec": {
      "name": "python3",
      "display_name": "Python 3"
    },
    "language_info": {
      "name": "python"
    },
    "accelerator": "GPU"
  },
  "cells": [
    {
      "cell_type": "code",
      "source": [
        "pip install autokeras"
      ],
      "metadata": {
        "colab": {
          "base_uri": "https://localhost:8080/"
        },
        "id": "iV-7iNPHqD5Z",
        "outputId": "2a8df65a-f693-46e7-dd33-7367fa1aed8d"
      },
      "execution_count": 1,
      "outputs": [
        {
          "output_type": "stream",
          "name": "stdout",
          "text": [
            "Collecting autokeras\n",
            "  Downloading autokeras-1.1.0-py3-none-any.whl (148 kB)\n",
            "\u001b[2K     \u001b[90m━━━━━━━━━━━━━━━━━━━━━━━━━━━━━━━━━━━━━━━\u001b[0m \u001b[32m148.6/148.6 kB\u001b[0m \u001b[31m2.7 MB/s\u001b[0m eta \u001b[36m0:00:00\u001b[0m\n",
            "\u001b[?25hRequirement already satisfied: packaging in /usr/local/lib/python3.10/dist-packages (from autokeras) (23.1)\n",
            "Requirement already satisfied: tensorflow>=2.8.0 in /usr/local/lib/python3.10/dist-packages (from autokeras) (2.12.0)\n",
            "Collecting keras-tuner>=1.1.0 (from autokeras)\n",
            "  Downloading keras_tuner-1.3.5-py3-none-any.whl (176 kB)\n",
            "\u001b[2K     \u001b[90m━━━━━━━━━━━━━━━━━━━━━━━━━━━━━━━━━━━━━━━\u001b[0m \u001b[32m176.1/176.1 kB\u001b[0m \u001b[31m8.1 MB/s\u001b[0m eta \u001b[36m0:00:00\u001b[0m\n",
            "\u001b[?25hCollecting keras-nlp>=0.4.0 (from autokeras)\n",
            "  Downloading keras_nlp-0.6.1-py3-none-any.whl (573 kB)\n",
            "\u001b[2K     \u001b[90m━━━━━━━━━━━━━━━━━━━━━━━━━━━━━━━━━━━━━━\u001b[0m \u001b[32m573.5/573.5 kB\u001b[0m \u001b[31m11.4 MB/s\u001b[0m eta \u001b[36m0:00:00\u001b[0m\n",
            "\u001b[?25hRequirement already satisfied: pandas in /usr/local/lib/python3.10/dist-packages (from autokeras) (1.5.3)\n",
            "Collecting keras-core (from keras-nlp>=0.4.0->autokeras)\n",
            "  Downloading keras_core-0.1.5-py3-none-any.whl (924 kB)\n",
            "\u001b[2K     \u001b[90m━━━━━━━━━━━━━━━━━━━━━━━━━━━━━━━━━━━━━━\u001b[0m \u001b[32m924.6/924.6 kB\u001b[0m \u001b[31m12.8 MB/s\u001b[0m eta \u001b[36m0:00:00\u001b[0m\n",
            "\u001b[?25hRequirement already satisfied: absl-py in /usr/local/lib/python3.10/dist-packages (from keras-nlp>=0.4.0->autokeras) (1.4.0)\n",
            "Requirement already satisfied: numpy in /usr/local/lib/python3.10/dist-packages (from keras-nlp>=0.4.0->autokeras) (1.23.5)\n",
            "Requirement already satisfied: regex in /usr/local/lib/python3.10/dist-packages (from keras-nlp>=0.4.0->autokeras) (2023.6.3)\n",
            "Requirement already satisfied: rich in /usr/local/lib/python3.10/dist-packages (from keras-nlp>=0.4.0->autokeras) (13.5.2)\n",
            "Collecting tensorflow-text (from keras-nlp>=0.4.0->autokeras)\n",
            "  Downloading tensorflow_text-2.13.0-cp310-cp310-manylinux_2_17_x86_64.manylinux2014_x86_64.whl (6.5 MB)\n",
            "\u001b[2K     \u001b[90m━━━━━━━━━━━━━━━━━━━━━━━━━━━━━━━━━━━━━━━━\u001b[0m \u001b[32m6.5/6.5 MB\u001b[0m \u001b[31m23.3 MB/s\u001b[0m eta \u001b[36m0:00:00\u001b[0m\n",
            "\u001b[?25hRequirement already satisfied: requests in /usr/local/lib/python3.10/dist-packages (from keras-tuner>=1.1.0->autokeras) (2.31.0)\n",
            "Collecting kt-legacy (from keras-tuner>=1.1.0->autokeras)\n",
            "  Downloading kt_legacy-1.0.5-py3-none-any.whl (9.6 kB)\n",
            "Requirement already satisfied: astunparse>=1.6.0 in /usr/local/lib/python3.10/dist-packages (from tensorflow>=2.8.0->autokeras) (1.6.3)\n",
            "Requirement already satisfied: flatbuffers>=2.0 in /usr/local/lib/python3.10/dist-packages (from tensorflow>=2.8.0->autokeras) (23.5.26)\n",
            "Requirement already satisfied: gast<=0.4.0,>=0.2.1 in /usr/local/lib/python3.10/dist-packages (from tensorflow>=2.8.0->autokeras) (0.4.0)\n",
            "Requirement already satisfied: google-pasta>=0.1.1 in /usr/local/lib/python3.10/dist-packages (from tensorflow>=2.8.0->autokeras) (0.2.0)\n",
            "Requirement already satisfied: grpcio<2.0,>=1.24.3 in /usr/local/lib/python3.10/dist-packages (from tensorflow>=2.8.0->autokeras) (1.57.0)\n",
            "Requirement already satisfied: h5py>=2.9.0 in /usr/local/lib/python3.10/dist-packages (from tensorflow>=2.8.0->autokeras) (3.9.0)\n",
            "Requirement already satisfied: jax>=0.3.15 in /usr/local/lib/python3.10/dist-packages (from tensorflow>=2.8.0->autokeras) (0.4.14)\n",
            "Requirement already satisfied: keras<2.13,>=2.12.0 in /usr/local/lib/python3.10/dist-packages (from tensorflow>=2.8.0->autokeras) (2.12.0)\n",
            "Requirement already satisfied: libclang>=13.0.0 in /usr/local/lib/python3.10/dist-packages (from tensorflow>=2.8.0->autokeras) (16.0.6)\n",
            "Requirement already satisfied: opt-einsum>=2.3.2 in /usr/local/lib/python3.10/dist-packages (from tensorflow>=2.8.0->autokeras) (3.3.0)\n",
            "Requirement already satisfied: protobuf!=4.21.0,!=4.21.1,!=4.21.2,!=4.21.3,!=4.21.4,!=4.21.5,<5.0.0dev,>=3.20.3 in /usr/local/lib/python3.10/dist-packages (from tensorflow>=2.8.0->autokeras) (3.20.3)\n",
            "Requirement already satisfied: setuptools in /usr/local/lib/python3.10/dist-packages (from tensorflow>=2.8.0->autokeras) (67.7.2)\n",
            "Requirement already satisfied: six>=1.12.0 in /usr/local/lib/python3.10/dist-packages (from tensorflow>=2.8.0->autokeras) (1.16.0)\n",
            "Requirement already satisfied: tensorboard<2.13,>=2.12 in /usr/local/lib/python3.10/dist-packages (from tensorflow>=2.8.0->autokeras) (2.12.3)\n",
            "Requirement already satisfied: tensorflow-estimator<2.13,>=2.12.0 in /usr/local/lib/python3.10/dist-packages (from tensorflow>=2.8.0->autokeras) (2.12.0)\n",
            "Requirement already satisfied: termcolor>=1.1.0 in /usr/local/lib/python3.10/dist-packages (from tensorflow>=2.8.0->autokeras) (2.3.0)\n",
            "Requirement already satisfied: typing-extensions>=3.6.6 in /usr/local/lib/python3.10/dist-packages (from tensorflow>=2.8.0->autokeras) (4.7.1)\n",
            "Requirement already satisfied: wrapt<1.15,>=1.11.0 in /usr/local/lib/python3.10/dist-packages (from tensorflow>=2.8.0->autokeras) (1.14.1)\n",
            "Requirement already satisfied: tensorflow-io-gcs-filesystem>=0.23.1 in /usr/local/lib/python3.10/dist-packages (from tensorflow>=2.8.0->autokeras) (0.33.0)\n",
            "Requirement already satisfied: python-dateutil>=2.8.1 in /usr/local/lib/python3.10/dist-packages (from pandas->autokeras) (2.8.2)\n",
            "Requirement already satisfied: pytz>=2020.1 in /usr/local/lib/python3.10/dist-packages (from pandas->autokeras) (2023.3)\n",
            "Requirement already satisfied: wheel<1.0,>=0.23.0 in /usr/local/lib/python3.10/dist-packages (from astunparse>=1.6.0->tensorflow>=2.8.0->autokeras) (0.41.2)\n",
            "Requirement already satisfied: ml-dtypes>=0.2.0 in /usr/local/lib/python3.10/dist-packages (from jax>=0.3.15->tensorflow>=2.8.0->autokeras) (0.2.0)\n",
            "Requirement already satisfied: scipy>=1.7 in /usr/local/lib/python3.10/dist-packages (from jax>=0.3.15->tensorflow>=2.8.0->autokeras) (1.10.1)\n",
            "Requirement already satisfied: google-auth<3,>=1.6.3 in /usr/local/lib/python3.10/dist-packages (from tensorboard<2.13,>=2.12->tensorflow>=2.8.0->autokeras) (2.17.3)\n",
            "Requirement already satisfied: google-auth-oauthlib<1.1,>=0.5 in /usr/local/lib/python3.10/dist-packages (from tensorboard<2.13,>=2.12->tensorflow>=2.8.0->autokeras) (1.0.0)\n",
            "Requirement already satisfied: markdown>=2.6.8 in /usr/local/lib/python3.10/dist-packages (from tensorboard<2.13,>=2.12->tensorflow>=2.8.0->autokeras) (3.4.4)\n",
            "Requirement already satisfied: tensorboard-data-server<0.8.0,>=0.7.0 in /usr/local/lib/python3.10/dist-packages (from tensorboard<2.13,>=2.12->tensorflow>=2.8.0->autokeras) (0.7.1)\n",
            "Requirement already satisfied: werkzeug>=1.0.1 in /usr/local/lib/python3.10/dist-packages (from tensorboard<2.13,>=2.12->tensorflow>=2.8.0->autokeras) (2.3.7)\n",
            "Requirement already satisfied: charset-normalizer<4,>=2 in /usr/local/lib/python3.10/dist-packages (from requests->keras-tuner>=1.1.0->autokeras) (3.2.0)\n",
            "Requirement already satisfied: idna<4,>=2.5 in /usr/local/lib/python3.10/dist-packages (from requests->keras-tuner>=1.1.0->autokeras) (3.4)\n",
            "Requirement already satisfied: urllib3<3,>=1.21.1 in /usr/local/lib/python3.10/dist-packages (from requests->keras-tuner>=1.1.0->autokeras) (2.0.4)\n",
            "Requirement already satisfied: certifi>=2017.4.17 in /usr/local/lib/python3.10/dist-packages (from requests->keras-tuner>=1.1.0->autokeras) (2023.7.22)\n",
            "Collecting namex (from keras-core->keras-nlp>=0.4.0->autokeras)\n",
            "  Downloading namex-0.0.7-py3-none-any.whl (5.8 kB)\n",
            "Requirement already satisfied: dm-tree in /usr/local/lib/python3.10/dist-packages (from keras-core->keras-nlp>=0.4.0->autokeras) (0.1.8)\n",
            "Requirement already satisfied: markdown-it-py>=2.2.0 in /usr/local/lib/python3.10/dist-packages (from rich->keras-nlp>=0.4.0->autokeras) (3.0.0)\n",
            "Requirement already satisfied: pygments<3.0.0,>=2.13.0 in /usr/local/lib/python3.10/dist-packages (from rich->keras-nlp>=0.4.0->autokeras) (2.16.1)\n",
            "Requirement already satisfied: tensorflow-hub>=0.8.0 in /usr/local/lib/python3.10/dist-packages (from tensorflow-text->keras-nlp>=0.4.0->autokeras) (0.14.0)\n",
            "Collecting tensorflow>=2.8.0 (from autokeras)\n",
            "  Downloading tensorflow-2.13.0-cp310-cp310-manylinux_2_17_x86_64.manylinux2014_x86_64.whl (524.1 MB)\n",
            "\u001b[2K     \u001b[90m━━━━━━━━━━━━━━━━━━━━━━━━━━━━━━━━━━━━━━━\u001b[0m \u001b[32m524.1/524.1 MB\u001b[0m \u001b[31m3.1 MB/s\u001b[0m eta \u001b[36m0:00:00\u001b[0m\n",
            "\u001b[?25hCollecting keras<2.14,>=2.13.1 (from tensorflow>=2.8.0->autokeras)\n",
            "  Downloading keras-2.13.1-py3-none-any.whl (1.7 MB)\n",
            "\u001b[2K     \u001b[90m━━━━━━━━━━━━━━━━━━━━━━━━━━━━━━━━━━━━━━━━\u001b[0m \u001b[32m1.7/1.7 MB\u001b[0m \u001b[31m74.1 MB/s\u001b[0m eta \u001b[36m0:00:00\u001b[0m\n",
            "\u001b[?25hCollecting tensorboard<2.14,>=2.13 (from tensorflow>=2.8.0->autokeras)\n",
            "  Downloading tensorboard-2.13.0-py3-none-any.whl (5.6 MB)\n",
            "\u001b[2K     \u001b[90m━━━━━━━━━━━━━━━━━━━━━━━━━━━━━━━━━━━━━━━━\u001b[0m \u001b[32m5.6/5.6 MB\u001b[0m \u001b[31m115.2 MB/s\u001b[0m eta \u001b[36m0:00:00\u001b[0m\n",
            "\u001b[?25hCollecting tensorflow-estimator<2.14,>=2.13.0 (from tensorflow>=2.8.0->autokeras)\n",
            "  Downloading tensorflow_estimator-2.13.0-py2.py3-none-any.whl (440 kB)\n",
            "\u001b[2K     \u001b[90m━━━━━━━━━━━━━━━━━━━━━━━━━━━━━━━━━━━━━━\u001b[0m \u001b[32m440.8/440.8 kB\u001b[0m \u001b[31m41.8 MB/s\u001b[0m eta \u001b[36m0:00:00\u001b[0m\n",
            "\u001b[?25hCollecting typing-extensions<4.6.0,>=3.6.6 (from tensorflow>=2.8.0->autokeras)\n",
            "  Downloading typing_extensions-4.5.0-py3-none-any.whl (27 kB)\n",
            "Requirement already satisfied: cachetools<6.0,>=2.0.0 in /usr/local/lib/python3.10/dist-packages (from google-auth<3,>=1.6.3->tensorboard<2.13,>=2.12->tensorflow>=2.8.0->autokeras) (5.3.1)\n",
            "Requirement already satisfied: pyasn1-modules>=0.2.1 in /usr/local/lib/python3.10/dist-packages (from google-auth<3,>=1.6.3->tensorboard<2.13,>=2.12->tensorflow>=2.8.0->autokeras) (0.3.0)\n",
            "Requirement already satisfied: rsa<5,>=3.1.4 in /usr/local/lib/python3.10/dist-packages (from google-auth<3,>=1.6.3->tensorboard<2.13,>=2.12->tensorflow>=2.8.0->autokeras) (4.9)\n",
            "Requirement already satisfied: requests-oauthlib>=0.7.0 in /usr/local/lib/python3.10/dist-packages (from google-auth-oauthlib<1.1,>=0.5->tensorboard<2.13,>=2.12->tensorflow>=2.8.0->autokeras) (1.3.1)\n",
            "Requirement already satisfied: mdurl~=0.1 in /usr/local/lib/python3.10/dist-packages (from markdown-it-py>=2.2.0->rich->keras-nlp>=0.4.0->autokeras) (0.1.2)\n",
            "Requirement already satisfied: MarkupSafe>=2.1.1 in /usr/local/lib/python3.10/dist-packages (from werkzeug>=1.0.1->tensorboard<2.13,>=2.12->tensorflow>=2.8.0->autokeras) (2.1.3)\n",
            "Requirement already satisfied: pyasn1<0.6.0,>=0.4.6 in /usr/local/lib/python3.10/dist-packages (from pyasn1-modules>=0.2.1->google-auth<3,>=1.6.3->tensorboard<2.13,>=2.12->tensorflow>=2.8.0->autokeras) (0.5.0)\n",
            "Requirement already satisfied: oauthlib>=3.0.0 in /usr/local/lib/python3.10/dist-packages (from requests-oauthlib>=0.7.0->google-auth-oauthlib<1.1,>=0.5->tensorboard<2.13,>=2.12->tensorflow>=2.8.0->autokeras) (3.2.2)\n",
            "Installing collected packages: namex, kt-legacy, typing-extensions, tensorflow-estimator, keras, keras-tuner, keras-core, tensorboard, tensorflow, tensorflow-text, keras-nlp, autokeras\n",
            "  Attempting uninstall: typing-extensions\n",
            "    Found existing installation: typing_extensions 4.7.1\n",
            "    Uninstalling typing_extensions-4.7.1:\n",
            "      Successfully uninstalled typing_extensions-4.7.1\n",
            "  Attempting uninstall: tensorflow-estimator\n",
            "    Found existing installation: tensorflow-estimator 2.12.0\n",
            "    Uninstalling tensorflow-estimator-2.12.0:\n",
            "      Successfully uninstalled tensorflow-estimator-2.12.0\n",
            "  Attempting uninstall: keras\n",
            "    Found existing installation: keras 2.12.0\n",
            "    Uninstalling keras-2.12.0:\n",
            "      Successfully uninstalled keras-2.12.0\n",
            "  Attempting uninstall: tensorboard\n",
            "    Found existing installation: tensorboard 2.12.3\n",
            "    Uninstalling tensorboard-2.12.3:\n",
            "      Successfully uninstalled tensorboard-2.12.3\n",
            "  Attempting uninstall: tensorflow\n",
            "    Found existing installation: tensorflow 2.12.0\n",
            "    Uninstalling tensorflow-2.12.0:\n",
            "      Successfully uninstalled tensorflow-2.12.0\n",
            "\u001b[31mERROR: pip's dependency resolver does not currently take into account all the packages that are installed. This behaviour is the source of the following dependency conflicts.\n",
            "pydantic 2.2.1 requires typing-extensions>=4.6.1, but you have typing-extensions 4.5.0 which is incompatible.\n",
            "pydantic-core 2.6.1 requires typing-extensions!=4.7.0,>=4.6.0, but you have typing-extensions 4.5.0 which is incompatible.\u001b[0m\u001b[31m\n",
            "\u001b[0mSuccessfully installed autokeras-1.1.0 keras-2.13.1 keras-core-0.1.5 keras-nlp-0.6.1 keras-tuner-1.3.5 kt-legacy-1.0.5 namex-0.0.7 tensorboard-2.13.0 tensorflow-2.13.0 tensorflow-estimator-2.13.0 tensorflow-text-2.13.0 typing-extensions-4.5.0\n"
          ]
        }
      ]
    },
    {
      "cell_type": "code",
      "execution_count": 2,
      "metadata": {
        "colab": {
          "base_uri": "https://localhost:8080/"
        },
        "id": "vBTWdwzgpW2C",
        "outputId": "02fa35c7-c6b5-423b-c2b4-710f3d38137e"
      },
      "outputs": [
        {
          "output_type": "stream",
          "name": "stdout",
          "text": [
            "Using TensorFlow backend\n"
          ]
        }
      ],
      "source": [
        "import tensorflow as tf\n",
        "import autokeras as ak"
      ]
    },
    {
      "cell_type": "markdown",
      "source": [
        "# load california housing price"
      ],
      "metadata": {
        "id": "amFJwq0At6XG"
      }
    },
    {
      "cell_type": "markdown",
      "source": [
        "## prediction dataset"
      ],
      "metadata": {
        "id": "Y5GPKpBFt-ik"
      }
    },
    {
      "cell_type": "code",
      "source": [
        "from sklearn.datasets import fetch_california_housing\n",
        "\n",
        "house_dataset = fetch_california_housing()\n",
        "\n",
        "# import pandas\n",
        "import pandas as pd\n",
        "\n",
        "# Extract feature\n",
        "data = pd.DataFrame(house_dataset.data, columns=house_dataset.feature_names)\n",
        "\n",
        "# Extract target\n",
        "target = pd.Series(house_dataset.target, name=\"MEDV\")\n",
        "\n",
        "from sklearn.model_selection import train_test_split\n",
        "\n",
        "train_data, test_data, train_targets, test_targets = train_test_split(\n",
        "    data, target, test_size = 0.2, random_state=42\n",
        ")"
      ],
      "metadata": {
        "id": "1QpgHHYht52W"
      },
      "execution_count": 18,
      "outputs": []
    },
    {
      "cell_type": "code",
      "source": [
        "# Check the shape of whole dataset and the splited training and test set\n",
        "print(\"--Shape of the whole data--\\n {}\".format(data.shape))\n",
        "print(\"\\n--Shape of the target vector--\\n {}\".format(target.shape))\n",
        "print(\"\\n--Shape of the training data--\\n {}\".format(train_data.shape))\n",
        "print(\"\\n--Shape of the testing data--\\n {}\".format(test_data.shape))\n"
      ],
      "metadata": {
        "id": "j4YFMrCByi1G",
        "outputId": "f37ceba4-88a6-4710-9766-0b4dc1d9d601",
        "colab": {
          "base_uri": "https://localhost:8080/"
        }
      },
      "execution_count": 19,
      "outputs": [
        {
          "output_type": "stream",
          "name": "stdout",
          "text": [
            "--Shape of the whole data--\n",
            " (20640, 8)\n",
            "\n",
            "--Shape of the target vector--\n",
            " (20640,)\n",
            "\n",
            "--Shape of the training data--\n",
            " (16512, 8)\n",
            "\n",
            "--Shape of the testing data--\n",
            " (4128, 8)\n"
          ]
        }
      ]
    },
    {
      "cell_type": "markdown",
      "source": [
        "# Run The StructuredDataReressor"
      ],
      "metadata": {
        "id": "36EZDRyjzH3I"
      }
    },
    {
      "cell_type": "code",
      "source": [
        "regressor = ak.StructuredDataRegressor(max_trials=10, overwrite=True)\n",
        "regressor.fit(x=train_data, y=train_targets, batch_size=1024)"
      ],
      "metadata": {
        "id": "Qc_tpckrzGTd",
        "outputId": "ec7dd946-f9c2-4eed-c5d7-28b06011b9d2",
        "colab": {
          "base_uri": "https://localhost:8080/"
        }
      },
      "execution_count": 20,
      "outputs": [
        {
          "output_type": "stream",
          "name": "stdout",
          "text": [
            "Trial 10 Complete [00h 01m 07s]\n",
            "val_loss: 0.3209627866744995\n",
            "\n",
            "Best val_loss So Far: 0.31974008679389954\n",
            "Total elapsed time: 00h 14m 25s\n",
            "Epoch 1/164\n",
            "17/17 [==============================] - 2s 10ms/step - loss: 2.7677 - mean_squared_error: 2.7677\n",
            "Epoch 2/164\n",
            "17/17 [==============================] - 0s 10ms/step - loss: 1.0485 - mean_squared_error: 1.0485\n",
            "Epoch 3/164\n",
            "17/17 [==============================] - 0s 13ms/step - loss: 0.7821 - mean_squared_error: 0.7821\n",
            "Epoch 4/164\n",
            "17/17 [==============================] - 0s 16ms/step - loss: 0.6528 - mean_squared_error: 0.6528\n",
            "Epoch 5/164\n",
            "17/17 [==============================] - 0s 18ms/step - loss: 0.5688 - mean_squared_error: 0.5688\n",
            "Epoch 6/164\n",
            "17/17 [==============================] - 0s 19ms/step - loss: 0.5175 - mean_squared_error: 0.5175\n",
            "Epoch 7/164\n",
            "17/17 [==============================] - 0s 17ms/step - loss: 0.4875 - mean_squared_error: 0.4875\n",
            "Epoch 8/164\n",
            "17/17 [==============================] - 0s 18ms/step - loss: 0.4677 - mean_squared_error: 0.4677\n",
            "Epoch 9/164\n",
            "17/17 [==============================] - 0s 18ms/step - loss: 0.4530 - mean_squared_error: 0.4530\n",
            "Epoch 10/164\n",
            "17/17 [==============================] - 0s 16ms/step - loss: 0.4420 - mean_squared_error: 0.4420\n",
            "Epoch 11/164\n",
            "17/17 [==============================] - 0s 15ms/step - loss: 0.4329 - mean_squared_error: 0.4329\n",
            "Epoch 12/164\n",
            "17/17 [==============================] - 0s 13ms/step - loss: 0.4248 - mean_squared_error: 0.4248\n",
            "Epoch 13/164\n",
            "17/17 [==============================] - 0s 16ms/step - loss: 0.4178 - mean_squared_error: 0.4178\n",
            "Epoch 14/164\n",
            "17/17 [==============================] - 0s 14ms/step - loss: 0.4115 - mean_squared_error: 0.4115\n",
            "Epoch 15/164\n",
            "17/17 [==============================] - 0s 18ms/step - loss: 0.4057 - mean_squared_error: 0.4057\n",
            "Epoch 16/164\n",
            "17/17 [==============================] - 0s 15ms/step - loss: 0.4005 - mean_squared_error: 0.4005\n",
            "Epoch 17/164\n",
            "17/17 [==============================] - 0s 15ms/step - loss: 0.3955 - mean_squared_error: 0.3955\n",
            "Epoch 18/164\n",
            "17/17 [==============================] - 0s 15ms/step - loss: 0.3907 - mean_squared_error: 0.3907\n",
            "Epoch 19/164\n",
            "17/17 [==============================] - 0s 16ms/step - loss: 0.3861 - mean_squared_error: 0.3861\n",
            "Epoch 20/164\n",
            "17/17 [==============================] - 0s 14ms/step - loss: 0.3816 - mean_squared_error: 0.3816\n",
            "Epoch 21/164\n",
            "17/17 [==============================] - 0s 16ms/step - loss: 0.3771 - mean_squared_error: 0.3771\n",
            "Epoch 22/164\n",
            "17/17 [==============================] - 0s 16ms/step - loss: 0.3727 - mean_squared_error: 0.3727\n",
            "Epoch 23/164\n",
            "17/17 [==============================] - 0s 15ms/step - loss: 0.3684 - mean_squared_error: 0.3684\n",
            "Epoch 24/164\n",
            "17/17 [==============================] - 0s 18ms/step - loss: 0.3640 - mean_squared_error: 0.3640\n",
            "Epoch 25/164\n",
            "17/17 [==============================] - 0s 10ms/step - loss: 0.3599 - mean_squared_error: 0.3599\n",
            "Epoch 26/164\n",
            "17/17 [==============================] - 0s 9ms/step - loss: 0.3559 - mean_squared_error: 0.3559\n",
            "Epoch 27/164\n",
            "17/17 [==============================] - 0s 9ms/step - loss: 0.3520 - mean_squared_error: 0.3520\n",
            "Epoch 28/164\n",
            "17/17 [==============================] - 0s 9ms/step - loss: 0.3482 - mean_squared_error: 0.3482\n",
            "Epoch 29/164\n",
            "17/17 [==============================] - 0s 9ms/step - loss: 0.3445 - mean_squared_error: 0.3445\n",
            "Epoch 30/164\n",
            "17/17 [==============================] - 0s 8ms/step - loss: 0.3409 - mean_squared_error: 0.3409\n",
            "Epoch 31/164\n",
            "17/17 [==============================] - 0s 9ms/step - loss: 0.3377 - mean_squared_error: 0.3377\n",
            "Epoch 32/164\n",
            "17/17 [==============================] - 0s 9ms/step - loss: 0.3346 - mean_squared_error: 0.3346\n",
            "Epoch 33/164\n",
            "17/17 [==============================] - 0s 10ms/step - loss: 0.3317 - mean_squared_error: 0.3317\n",
            "Epoch 34/164\n",
            "17/17 [==============================] - 0s 9ms/step - loss: 0.3287 - mean_squared_error: 0.3287\n",
            "Epoch 35/164\n",
            "17/17 [==============================] - 0s 10ms/step - loss: 0.3261 - mean_squared_error: 0.3261\n",
            "Epoch 36/164\n",
            "17/17 [==============================] - 0s 9ms/step - loss: 0.3236 - mean_squared_error: 0.3236\n",
            "Epoch 37/164\n",
            "17/17 [==============================] - 0s 9ms/step - loss: 0.3213 - mean_squared_error: 0.3213\n",
            "Epoch 38/164\n",
            "17/17 [==============================] - 0s 9ms/step - loss: 0.3190 - mean_squared_error: 0.3190\n",
            "Epoch 39/164\n",
            "17/17 [==============================] - 0s 8ms/step - loss: 0.3172 - mean_squared_error: 0.3172\n",
            "Epoch 40/164\n",
            "17/17 [==============================] - 0s 10ms/step - loss: 0.3150 - mean_squared_error: 0.3150\n",
            "Epoch 41/164\n",
            "17/17 [==============================] - 0s 10ms/step - loss: 0.3141 - mean_squared_error: 0.3141\n",
            "Epoch 42/164\n",
            "17/17 [==============================] - 0s 9ms/step - loss: 0.3124 - mean_squared_error: 0.3124\n",
            "Epoch 43/164\n",
            "17/17 [==============================] - 0s 9ms/step - loss: 0.3144 - mean_squared_error: 0.3144\n",
            "Epoch 44/164\n",
            "17/17 [==============================] - 0s 8ms/step - loss: 0.3125 - mean_squared_error: 0.3125\n",
            "Epoch 45/164\n",
            "17/17 [==============================] - 0s 9ms/step - loss: 0.3104 - mean_squared_error: 0.3104\n",
            "Epoch 46/164\n",
            "17/17 [==============================] - 0s 8ms/step - loss: 0.3058 - mean_squared_error: 0.3058\n",
            "Epoch 47/164\n",
            "17/17 [==============================] - 0s 10ms/step - loss: 0.3043 - mean_squared_error: 0.3043\n",
            "Epoch 48/164\n",
            "17/17 [==============================] - 0s 9ms/step - loss: 0.3027 - mean_squared_error: 0.3027\n",
            "Epoch 49/164\n",
            "17/17 [==============================] - 0s 9ms/step - loss: 0.3015 - mean_squared_error: 0.3015\n",
            "Epoch 50/164\n",
            "17/17 [==============================] - 0s 10ms/step - loss: 0.3003 - mean_squared_error: 0.3003\n",
            "Epoch 51/164\n",
            "17/17 [==============================] - 0s 9ms/step - loss: 0.2991 - mean_squared_error: 0.2991\n",
            "Epoch 52/164\n",
            "17/17 [==============================] - 0s 9ms/step - loss: 0.2980 - mean_squared_error: 0.2980\n",
            "Epoch 53/164\n",
            "17/17 [==============================] - 0s 9ms/step - loss: 0.2968 - mean_squared_error: 0.2968\n",
            "Epoch 54/164\n",
            "17/17 [==============================] - 0s 11ms/step - loss: 0.2958 - mean_squared_error: 0.2958\n",
            "Epoch 55/164\n",
            "17/17 [==============================] - 0s 9ms/step - loss: 0.2948 - mean_squared_error: 0.2948\n",
            "Epoch 56/164\n",
            "17/17 [==============================] - 0s 10ms/step - loss: 0.2938 - mean_squared_error: 0.2938\n",
            "Epoch 57/164\n",
            "17/17 [==============================] - 0s 9ms/step - loss: 0.2929 - mean_squared_error: 0.2929\n",
            "Epoch 58/164\n",
            "17/17 [==============================] - 0s 9ms/step - loss: 0.2919 - mean_squared_error: 0.2919\n",
            "Epoch 59/164\n",
            "17/17 [==============================] - 0s 9ms/step - loss: 0.2912 - mean_squared_error: 0.2912\n",
            "Epoch 60/164\n",
            "17/17 [==============================] - 0s 9ms/step - loss: 0.2903 - mean_squared_error: 0.2903\n",
            "Epoch 61/164\n",
            "17/17 [==============================] - 0s 9ms/step - loss: 0.2895 - mean_squared_error: 0.2895\n",
            "Epoch 62/164\n",
            "17/17 [==============================] - 0s 9ms/step - loss: 0.2885 - mean_squared_error: 0.2885\n",
            "Epoch 63/164\n",
            "17/17 [==============================] - 0s 10ms/step - loss: 0.2878 - mean_squared_error: 0.2878\n",
            "Epoch 64/164\n",
            "17/17 [==============================] - 0s 9ms/step - loss: 0.2869 - mean_squared_error: 0.2869\n",
            "Epoch 65/164\n",
            "17/17 [==============================] - 0s 9ms/step - loss: 0.2864 - mean_squared_error: 0.2864\n",
            "Epoch 66/164\n",
            "17/17 [==============================] - 0s 9ms/step - loss: 0.2855 - mean_squared_error: 0.2855\n",
            "Epoch 67/164\n",
            "17/17 [==============================] - 0s 10ms/step - loss: 0.2852 - mean_squared_error: 0.2852\n",
            "Epoch 68/164\n",
            "17/17 [==============================] - 0s 9ms/step - loss: 0.2846 - mean_squared_error: 0.2846\n",
            "Epoch 69/164\n",
            "17/17 [==============================] - 0s 9ms/step - loss: 0.2849 - mean_squared_error: 0.2849\n",
            "Epoch 70/164\n",
            "17/17 [==============================] - 0s 16ms/step - loss: 0.2849 - mean_squared_error: 0.2849\n",
            "Epoch 71/164\n",
            "17/17 [==============================] - 0s 18ms/step - loss: 0.2849 - mean_squared_error: 0.2849\n",
            "Epoch 72/164\n",
            "17/17 [==============================] - 0s 19ms/step - loss: 0.2840 - mean_squared_error: 0.2840\n",
            "Epoch 73/164\n",
            "17/17 [==============================] - 0s 18ms/step - loss: 0.2822 - mean_squared_error: 0.2822\n",
            "Epoch 74/164\n",
            "17/17 [==============================] - 0s 17ms/step - loss: 0.2810 - mean_squared_error: 0.2810\n",
            "Epoch 75/164\n",
            "17/17 [==============================] - 0s 15ms/step - loss: 0.2794 - mean_squared_error: 0.2794\n",
            "Epoch 76/164\n",
            "17/17 [==============================] - 0s 14ms/step - loss: 0.2790 - mean_squared_error: 0.2790\n",
            "Epoch 77/164\n",
            "17/17 [==============================] - 0s 14ms/step - loss: 0.2780 - mean_squared_error: 0.2780\n",
            "Epoch 78/164\n",
            "17/17 [==============================] - 0s 14ms/step - loss: 0.2776 - mean_squared_error: 0.2776\n",
            "Epoch 79/164\n",
            "17/17 [==============================] - 0s 16ms/step - loss: 0.2767 - mean_squared_error: 0.2767\n",
            "Epoch 80/164\n",
            "17/17 [==============================] - 0s 15ms/step - loss: 0.2762 - mean_squared_error: 0.2762\n",
            "Epoch 81/164\n",
            "17/17 [==============================] - 0s 17ms/step - loss: 0.2756 - mean_squared_error: 0.2756\n",
            "Epoch 82/164\n",
            "17/17 [==============================] - 0s 16ms/step - loss: 0.2750 - mean_squared_error: 0.2750\n",
            "Epoch 83/164\n",
            "17/17 [==============================] - 0s 16ms/step - loss: 0.2745 - mean_squared_error: 0.2745\n",
            "Epoch 84/164\n",
            "17/17 [==============================] - 0s 15ms/step - loss: 0.2739 - mean_squared_error: 0.2739\n",
            "Epoch 85/164\n",
            "17/17 [==============================] - 0s 16ms/step - loss: 0.2733 - mean_squared_error: 0.2733\n",
            "Epoch 86/164\n",
            "17/17 [==============================] - 0s 15ms/step - loss: 0.2729 - mean_squared_error: 0.2729\n",
            "Epoch 87/164\n",
            "17/17 [==============================] - 0s 17ms/step - loss: 0.2723 - mean_squared_error: 0.2723\n",
            "Epoch 88/164\n",
            "17/17 [==============================] - 0s 11ms/step - loss: 0.2718 - mean_squared_error: 0.2718\n",
            "Epoch 89/164\n",
            "17/17 [==============================] - 0s 8ms/step - loss: 0.2714 - mean_squared_error: 0.2714\n",
            "Epoch 90/164\n",
            "17/17 [==============================] - 0s 10ms/step - loss: 0.2709 - mean_squared_error: 0.2709\n",
            "Epoch 91/164\n",
            "17/17 [==============================] - 0s 8ms/step - loss: 0.2704 - mean_squared_error: 0.2704\n",
            "Epoch 92/164\n",
            "17/17 [==============================] - 0s 10ms/step - loss: 0.2701 - mean_squared_error: 0.2701\n",
            "Epoch 93/164\n",
            "17/17 [==============================] - 0s 9ms/step - loss: 0.2705 - mean_squared_error: 0.2705\n",
            "Epoch 94/164\n",
            "17/17 [==============================] - 0s 9ms/step - loss: 0.2708 - mean_squared_error: 0.2708\n",
            "Epoch 95/164\n",
            "17/17 [==============================] - 0s 9ms/step - loss: 0.2717 - mean_squared_error: 0.2717\n",
            "Epoch 96/164\n",
            "17/17 [==============================] - 0s 9ms/step - loss: 0.2720 - mean_squared_error: 0.2720\n",
            "Epoch 97/164\n",
            "17/17 [==============================] - 0s 10ms/step - loss: 0.2704 - mean_squared_error: 0.2704\n",
            "Epoch 98/164\n",
            "17/17 [==============================] - 0s 10ms/step - loss: 0.2685 - mean_squared_error: 0.2685\n",
            "Epoch 99/164\n",
            "17/17 [==============================] - 0s 10ms/step - loss: 0.2663 - mean_squared_error: 0.2663\n",
            "Epoch 100/164\n",
            "17/17 [==============================] - 0s 9ms/step - loss: 0.2657 - mean_squared_error: 0.2657\n",
            "Epoch 101/164\n",
            "17/17 [==============================] - 0s 11ms/step - loss: 0.2650 - mean_squared_error: 0.2650\n",
            "Epoch 102/164\n",
            "17/17 [==============================] - 0s 9ms/step - loss: 0.2645 - mean_squared_error: 0.2645\n",
            "Epoch 103/164\n",
            "17/17 [==============================] - 0s 10ms/step - loss: 0.2640 - mean_squared_error: 0.2640\n",
            "Epoch 104/164\n",
            "17/17 [==============================] - 0s 10ms/step - loss: 0.2635 - mean_squared_error: 0.2635\n",
            "Epoch 105/164\n",
            "17/17 [==============================] - 0s 9ms/step - loss: 0.2630 - mean_squared_error: 0.2630\n",
            "Epoch 106/164\n",
            "17/17 [==============================] - 0s 9ms/step - loss: 0.2625 - mean_squared_error: 0.2625\n",
            "Epoch 107/164\n",
            "17/17 [==============================] - 0s 10ms/step - loss: 0.2620 - mean_squared_error: 0.2620\n",
            "Epoch 108/164\n",
            "17/17 [==============================] - 0s 11ms/step - loss: 0.2615 - mean_squared_error: 0.2615\n",
            "Epoch 109/164\n",
            "17/17 [==============================] - 0s 8ms/step - loss: 0.2610 - mean_squared_error: 0.2610\n",
            "Epoch 110/164\n",
            "17/17 [==============================] - 0s 9ms/step - loss: 0.2606 - mean_squared_error: 0.2606\n",
            "Epoch 111/164\n",
            "17/17 [==============================] - 0s 9ms/step - loss: 0.2600 - mean_squared_error: 0.2600\n",
            "Epoch 112/164\n",
            "17/17 [==============================] - 0s 9ms/step - loss: 0.2596 - mean_squared_error: 0.2596\n",
            "Epoch 113/164\n",
            "17/17 [==============================] - 0s 11ms/step - loss: 0.2591 - mean_squared_error: 0.2591\n",
            "Epoch 114/164\n",
            "17/17 [==============================] - 0s 9ms/step - loss: 0.2587 - mean_squared_error: 0.2587\n",
            "Epoch 115/164\n",
            "17/17 [==============================] - 0s 10ms/step - loss: 0.2581 - mean_squared_error: 0.2581\n",
            "Epoch 116/164\n",
            "17/17 [==============================] - 0s 9ms/step - loss: 0.2579 - mean_squared_error: 0.2579\n",
            "Epoch 117/164\n",
            "17/17 [==============================] - 0s 9ms/step - loss: 0.2573 - mean_squared_error: 0.2573\n",
            "Epoch 118/164\n",
            "17/17 [==============================] - 0s 9ms/step - loss: 0.2569 - mean_squared_error: 0.2569\n",
            "Epoch 119/164\n",
            "17/17 [==============================] - 0s 10ms/step - loss: 0.2565 - mean_squared_error: 0.2565\n",
            "Epoch 120/164\n",
            "17/17 [==============================] - 0s 12ms/step - loss: 0.2563 - mean_squared_error: 0.2563\n",
            "Epoch 121/164\n",
            "17/17 [==============================] - 0s 9ms/step - loss: 0.2559 - mean_squared_error: 0.2559\n",
            "Epoch 122/164\n",
            "17/17 [==============================] - 0s 10ms/step - loss: 0.2563 - mean_squared_error: 0.2563\n",
            "Epoch 123/164\n",
            "17/17 [==============================] - 0s 9ms/step - loss: 0.2582 - mean_squared_error: 0.2582\n",
            "Epoch 124/164\n",
            "17/17 [==============================] - 0s 9ms/step - loss: 0.2587 - mean_squared_error: 0.2587\n",
            "Epoch 125/164\n",
            "17/17 [==============================] - 0s 9ms/step - loss: 0.2604 - mean_squared_error: 0.2604\n",
            "Epoch 126/164\n",
            "17/17 [==============================] - 0s 9ms/step - loss: 0.2586 - mean_squared_error: 0.2586\n",
            "Epoch 127/164\n",
            "17/17 [==============================] - 0s 9ms/step - loss: 0.2543 - mean_squared_error: 0.2543\n",
            "Epoch 128/164\n",
            "17/17 [==============================] - 0s 8ms/step - loss: 0.2531 - mean_squared_error: 0.2531\n",
            "Epoch 129/164\n",
            "17/17 [==============================] - 0s 10ms/step - loss: 0.2522 - mean_squared_error: 0.2522\n",
            "Epoch 130/164\n",
            "17/17 [==============================] - 0s 9ms/step - loss: 0.2517 - mean_squared_error: 0.2517\n",
            "Epoch 131/164\n",
            "17/17 [==============================] - 0s 10ms/step - loss: 0.2512 - mean_squared_error: 0.2512\n",
            "Epoch 132/164\n",
            "17/17 [==============================] - 0s 9ms/step - loss: 0.2508 - mean_squared_error: 0.2508\n",
            "Epoch 133/164\n",
            "17/17 [==============================] - 0s 10ms/step - loss: 0.2503 - mean_squared_error: 0.2503\n",
            "Epoch 134/164\n",
            "17/17 [==============================] - 0s 9ms/step - loss: 0.2500 - mean_squared_error: 0.2500\n",
            "Epoch 135/164\n",
            "17/17 [==============================] - 0s 9ms/step - loss: 0.2495 - mean_squared_error: 0.2495\n",
            "Epoch 136/164\n",
            "17/17 [==============================] - 0s 14ms/step - loss: 0.2492 - mean_squared_error: 0.2492\n",
            "Epoch 137/164\n",
            "17/17 [==============================] - 0s 15ms/step - loss: 0.2486 - mean_squared_error: 0.2486\n",
            "Epoch 138/164\n",
            "17/17 [==============================] - 0s 18ms/step - loss: 0.2483 - mean_squared_error: 0.2483\n",
            "Epoch 139/164\n",
            "17/17 [==============================] - 0s 15ms/step - loss: 0.2478 - mean_squared_error: 0.2478\n",
            "Epoch 140/164\n",
            "17/17 [==============================] - 0s 15ms/step - loss: 0.2474 - mean_squared_error: 0.2474\n",
            "Epoch 141/164\n",
            "17/17 [==============================] - 0s 17ms/step - loss: 0.2470 - mean_squared_error: 0.2470\n",
            "Epoch 142/164\n",
            "17/17 [==============================] - 0s 14ms/step - loss: 0.2466 - mean_squared_error: 0.2466\n",
            "Epoch 143/164\n",
            "17/17 [==============================] - 0s 14ms/step - loss: 0.2461 - mean_squared_error: 0.2461\n",
            "Epoch 144/164\n",
            "17/17 [==============================] - 0s 15ms/step - loss: 0.2457 - mean_squared_error: 0.2457\n",
            "Epoch 145/164\n",
            "17/17 [==============================] - 0s 17ms/step - loss: 0.2453 - mean_squared_error: 0.2453\n",
            "Epoch 146/164\n",
            "17/17 [==============================] - 0s 15ms/step - loss: 0.2449 - mean_squared_error: 0.2449\n",
            "Epoch 147/164\n",
            "17/17 [==============================] - 0s 15ms/step - loss: 0.2445 - mean_squared_error: 0.2445\n",
            "Epoch 148/164\n",
            "17/17 [==============================] - 0s 14ms/step - loss: 0.2442 - mean_squared_error: 0.2442\n",
            "Epoch 149/164\n",
            "17/17 [==============================] - 0s 15ms/step - loss: 0.2437 - mean_squared_error: 0.2437\n",
            "Epoch 150/164\n",
            "17/17 [==============================] - 0s 15ms/step - loss: 0.2433 - mean_squared_error: 0.2433\n",
            "Epoch 151/164\n",
            "17/17 [==============================] - 0s 16ms/step - loss: 0.2429 - mean_squared_error: 0.2429\n",
            "Epoch 152/164\n",
            "17/17 [==============================] - 0s 16ms/step - loss: 0.2425 - mean_squared_error: 0.2425\n",
            "Epoch 153/164\n",
            "17/17 [==============================] - 0s 16ms/step - loss: 0.2422 - mean_squared_error: 0.2422\n",
            "Epoch 154/164\n",
            "17/17 [==============================] - 0s 16ms/step - loss: 0.2417 - mean_squared_error: 0.2417\n",
            "Epoch 155/164\n",
            "17/17 [==============================] - 0s 13ms/step - loss: 0.2415 - mean_squared_error: 0.2415\n",
            "Epoch 156/164\n",
            "17/17 [==============================] - 0s 13ms/step - loss: 0.2412 - mean_squared_error: 0.2412\n",
            "Epoch 157/164\n",
            "17/17 [==============================] - 0s 9ms/step - loss: 0.2408 - mean_squared_error: 0.2408\n",
            "Epoch 158/164\n",
            "17/17 [==============================] - 0s 9ms/step - loss: 0.2405 - mean_squared_error: 0.2405\n",
            "Epoch 159/164\n",
            "17/17 [==============================] - 0s 9ms/step - loss: 0.2403 - mean_squared_error: 0.2403\n",
            "Epoch 160/164\n",
            "17/17 [==============================] - 0s 8ms/step - loss: 0.2400 - mean_squared_error: 0.2400\n",
            "Epoch 161/164\n",
            "17/17 [==============================] - 0s 10ms/step - loss: 0.2402 - mean_squared_error: 0.2402\n",
            "Epoch 162/164\n",
            "17/17 [==============================] - 0s 9ms/step - loss: 0.2399 - mean_squared_error: 0.2399\n",
            "Epoch 163/164\n",
            "17/17 [==============================] - 0s 10ms/step - loss: 0.2406 - mean_squared_error: 0.2406\n",
            "Epoch 164/164\n",
            "17/17 [==============================] - 0s 9ms/step - loss: 0.2399 - mean_squared_error: 0.2399\n"
          ]
        },
        {
          "output_type": "execute_result",
          "data": {
            "text/plain": [
              "<keras.src.callbacks.History at 0x7a592aeffc10>"
            ]
          },
          "metadata": {},
          "execution_count": 20
        }
      ]
    },
    {
      "cell_type": "markdown",
      "source": [
        "# Predicted best model & evaluate the best models on the test data"
      ],
      "metadata": {
        "id": "07VFttHdze3K"
      }
    },
    {
      "cell_type": "code",
      "source": [
        "predicted_y = regressor.predict(test_data)\n",
        "print(predicted_y)\n",
        "\n",
        "test_loss, test_mse = regressor.evaluate(test_data, test_targets, verbose=0)\n",
        "print(\"Test MSE: \", test_mse)"
      ],
      "metadata": {
        "id": "f2wgQPIHznSz",
        "outputId": "1392b235-0c81-4fde-e5d2-575ce998ce0c",
        "colab": {
          "base_uri": "https://localhost:8080/"
        }
      },
      "execution_count": 21,
      "outputs": [
        {
          "output_type": "stream",
          "name": "stdout",
          "text": [
            "129/129 [==============================] - 0s 2ms/step\n",
            "129/129 [==============================] - 0s 2ms/step\n",
            "[[0.5172578 ]\n",
            " [0.9159235 ]\n",
            " [4.767477  ]\n",
            " ...\n",
            " [4.8578615 ]\n",
            " [0.67431414]\n",
            " [1.8568442 ]]\n",
            "Test MSE:  0.30072858929634094\n"
          ]
        }
      ]
    },
    {
      "cell_type": "markdown",
      "source": [
        "# Multi label"
      ],
      "metadata": {
        "id": "nTeJgu-W0Qnu"
      }
    },
    {
      "cell_type": "code",
      "source": [
        "from sklearn.datasets import make_multilabel_classification\n",
        "\n",
        "X, Y = make_multilabel_classification(\n",
        "    n_samples=100,\n",
        "    n_features=64,\n",
        "    n_classes=3,\n",
        "    n_labels=2,\n",
        "    allow_unlabeled=False,\n",
        "    random_state=1,\n",
        ")\n",
        "X = X.reshape((100, 8, 8))\n",
        "X.shape, Y.shape\n"
      ],
      "metadata": {
        "id": "DAdPnhHe0SJ3",
        "outputId": "dab237ef-ab52-4ab6-d6e4-8d276d02a28b",
        "colab": {
          "base_uri": "https://localhost:8080/"
        }
      },
      "execution_count": 23,
      "outputs": [
        {
          "output_type": "execute_result",
          "data": {
            "text/plain": [
              "((100, 8, 8), (100, 3))"
            ]
          },
          "metadata": {},
          "execution_count": 23
        }
      ]
    },
    {
      "cell_type": "code",
      "source": [
        "x_train, x_test, y_train, y_test = X[:80], X[80:], Y[:80], Y[80:]"
      ],
      "metadata": {
        "id": "a6QmHN4r09hA"
      },
      "execution_count": 24,
      "outputs": []
    },
    {
      "cell_type": "markdown",
      "source": [
        "## Run the Image classifier for multi-label classification"
      ],
      "metadata": {
        "id": "OuoZfHpk1AcL"
      }
    },
    {
      "cell_type": "code",
      "source": [
        "# Initialize the image classifier.\n",
        "clf = ak.ImageClassifier(\n",
        "    max_trials=3, multi_label=True, overwrite=True\n",
        ")  # It tries two different pipelines.\n",
        "\n",
        "# Feed the image classifier with training data\n",
        "# 20% of the data is used as validation data by default for tuning\n",
        "# the process may run for a bit long time, please try to use GPU\n",
        "clf.fit(x_train, y_train, epochs=3, verbose=2)  # each model is trained for three epochs\n"
      ],
      "metadata": {
        "id": "kFBiYnSJ0_-C",
        "outputId": "8bb9597b-4516-4d45-f33b-e8d7a96930b5",
        "colab": {
          "base_uri": "https://localhost:8080/"
        }
      },
      "execution_count": 26,
      "outputs": [
        {
          "output_type": "stream",
          "name": "stdout",
          "text": [
            "Trial 3 Complete [00h 03m 33s]\n",
            "val_loss: 0.7258502244949341\n",
            "\n",
            "Best val_loss So Far: 0.5857412815093994\n",
            "Total elapsed time: 00h 04m 36s\n",
            "Epoch 1/3\n",
            "3/3 - 2s - loss: 0.7219 - accuracy: 0.4125 - 2s/epoch - 662ms/step\n",
            "Epoch 2/3\n",
            "3/3 - 0s - loss: 0.6073 - accuracy: 0.4125 - 23ms/epoch - 8ms/step\n",
            "Epoch 3/3\n",
            "3/3 - 0s - loss: 0.5864 - accuracy: 0.3250 - 23ms/epoch - 8ms/step\n"
          ]
        },
        {
          "output_type": "execute_result",
          "data": {
            "text/plain": [
              "<keras.src.callbacks.History at 0x7a594830e320>"
            ]
          },
          "metadata": {},
          "execution_count": 26
        }
      ]
    },
    {
      "cell_type": "markdown",
      "source": [
        "### predict the best model"
      ],
      "metadata": {
        "id": "VzUTI6QV1MQC"
      }
    },
    {
      "cell_type": "code",
      "source": [
        "predicted_y = clf.predict(x_test)\n",
        "print(\"The prediction shape is: {}\".format(predicted_y.shape))\n",
        "print(\n",
        "    \"The predicted labels of the first five instances are:\\n {}\".format(\n",
        "        predicted_y[:5, :]\n",
        "    )\n",
        ")"
      ],
      "metadata": {
        "id": "PKXU5X7S1KMD",
        "outputId": "9452aae5-1cf7-4282-b5ab-3ccbd52118d3",
        "colab": {
          "base_uri": "https://localhost:8080/"
        }
      },
      "execution_count": 27,
      "outputs": [
        {
          "output_type": "stream",
          "name": "stdout",
          "text": [
            "1/1 [==============================] - 0s 160ms/step\n",
            "1/1 [==============================] - 0s 10ms/step\n",
            "The prediction shape is: (20, 3)\n",
            "The predicted labels of the first five instances are:\n",
            " [[0. 1. 0.]\n",
            " [0. 1. 0.]\n",
            " [0. 1. 0.]\n",
            " [0. 1. 0.]\n",
            " [0. 1. 0.]]\n"
          ]
        }
      ]
    },
    {
      "cell_type": "code",
      "source": [
        "test_loss, test_acc = clf.evaluate(x_test, y_test, verbose=0)\n",
        "print(\"Test accuracy: \", test_acc)"
      ],
      "metadata": {
        "id": "tt864L8I1R5i",
        "outputId": "8b24a5ad-1f07-4216-cfb4-7ef8a517de03",
        "colab": {
          "base_uri": "https://localhost:8080/"
        }
      },
      "execution_count": 28,
      "outputs": [
        {
          "output_type": "stream",
          "name": "stderr",
          "text": [
            "WARNING:tensorflow:5 out of the last 13 calls to <function Model.make_test_function.<locals>.test_function at 0x7a59501a75b0> triggered tf.function retracing. Tracing is expensive and the excessive number of tracings could be due to (1) creating @tf.function repeatedly in a loop, (2) passing tensors with different shapes, (3) passing Python objects instead of tensors. For (1), please define your @tf.function outside of the loop. For (2), @tf.function has reduce_retracing=True option that can avoid unnecessary retracing. For (3), please refer to https://www.tensorflow.org/guide/function#controlling_retracing and https://www.tensorflow.org/api_docs/python/tf/function for  more details.\n"
          ]
        },
        {
          "output_type": "stream",
          "name": "stdout",
          "text": [
            "Test accuracy:  0.4000000059604645\n"
          ]
        }
      ]
    }
  ]
}